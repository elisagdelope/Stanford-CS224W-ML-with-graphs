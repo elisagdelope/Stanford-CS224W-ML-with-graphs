{
 "cells": [
  {
   "cell_type": "markdown",
   "id": "577deae8-d369-412a-a16b-6c96ec6e7d21",
   "metadata": {},
   "source": [
    "# CS224W: Machine Learning with Graphs - Homework 1\n",
    "Fall 2019"
   ]
  },
  {
   "cell_type": "markdown",
   "id": "3714c0dc-b683-45b0-bc9e-665879d61ce3",
   "metadata": {},
   "source": [
    "## Node Classification [25 points]\n",
    "### 1.1 Relational Classification [10 points]\n",
    "Consider the graph G as shown in Figure 1. We would like to classify nodes into 2 classes \"+\" and \"-\". Labels for node 3, 5, 8 and 10 are given (red for \"+\", blue for \"-\"). Assume all the edges have edge weight W(i; j) = 1 in this graph. For labeled nodes, initialize with the ground-truth Y labels, i.e., P(Y3 = +) = P(Y5 = +) = 1:0; P(Y8 = +) = P(Y10 = +) = 0. For unlabeled nodes, use unbiased initialization P(Yi = +) = 0:5. Update nodes by node ID in ascending order (i.e., update node 1  rst, then node 2, etc.)"
   ]
  },
  {
   "cell_type": "markdown",
   "id": "b4c4b335-a741-4a31-bb28-132113f70558",
   "metadata": {},
   "source": [
    "- After the second iteration, give P(Yi = +) for i = 2; 4; 6. [6 points]\n",
    "- If we use 0.5 as the probability threshold, i.e., consider a node i belonging to class \"+\" if P(Yi = +) > 0:5, which node will belong to class \"+\" in the end? Which will belong to class \"-\"? [4 points]"
   ]
  },
  {
   "cell_type": "code",
   "execution_count": 1,
   "id": "1867e848-a51b-4381-81cd-9d3930d7b606",
   "metadata": {},
   "outputs": [],
   "source": [
    "import numpy as np"
   ]
  },
  {
   "cell_type": "code",
   "execution_count": 2,
   "id": "2f1ea99a-279c-4063-b5c5-fbb472a2f0ff",
   "metadata": {},
   "outputs": [
    {
     "name": "stdout",
     "output_type": "stream",
     "text": [
      "========iteration 0========\n",
      "(0: 0.50),(1: 0.50),(2: 0.50),(3: 1.00),(4: 0.50),(5: 1.00),(6: 0.50),(7: 0.50),(8: 0.00),(9: 0.50),(10: 0.00),========iteration 1========\n",
      "(0: 0.50),(1: 0.75),(2: 0.75),(3: 1.00),(4: 0.42),(5: 1.00),(6: 0.56),(7: 0.21),(8: 0.00),(9: 0.39),(10: 0.00),========iteration 2========\n",
      "(0: 0.50),(1: 0.88),(2: 0.76),(3: 1.00),(4: 0.32),(5: 1.00),(6: 0.54),(7: 0.16),(8: 0.00),(9: 0.38),(10: 0.00),========iteration 3========\n",
      "(0: 0.50),(1: 0.88),(2: 0.74),(3: 1.00),(4: 0.30),(5: 1.00),(6: 0.53),(7: 0.15),(8: 0.00),(9: 0.38),(10: 0.00),========iteration 4========\n",
      "(0: 0.50),(1: 0.87),(2: 0.72),(3: 1.00),(4: 0.29),(5: 1.00),(6: 0.53),(7: 0.15),(8: 0.00),(9: 0.38),(10: 0.00),========iteration 5========\n",
      "(0: 0.50),(1: 0.86),(2: 0.72),(3: 1.00),(4: 0.29),(5: 1.00),(6: 0.52),(7: 0.14),(8: 0.00),(9: 0.38),(10: 0.00),========iteration 6========\n",
      "(0: 0.50),(1: 0.86),(2: 0.72),(3: 1.00),(4: 0.29),(5: 1.00),(6: 0.52),(7: 0.14),(8: 0.00),(9: 0.38),(10: 0.00),========iteration 7========\n",
      "(0: 0.50),(1: 0.86),(2: 0.71),(3: 1.00),(4: 0.29),(5: 1.00),(6: 0.52),(7: 0.14),(8: 0.00),(9: 0.38),(10: 0.00),========iteration 8========\n",
      "(0: 0.50),(1: 0.86),(2: 0.71),(3: 1.00),(4: 0.29),(5: 1.00),(6: 0.52),(7: 0.14),(8: 0.00),(9: 0.38),(10: 0.00),========iteration 9========\n",
      "(0: 0.50),(1: 0.86),(2: 0.71),(3: 1.00),(4: 0.29),(5: 1.00),(6: 0.52),(7: 0.14),(8: 0.00),(9: 0.38),(10: 0.00),========iteration 10========\n",
      "(0: 0.50),(1: 0.86),(2: 0.71),(3: 1.00),(4: 0.29),(5: 1.00),(6: 0.52),(7: 0.14),(8: 0.00),(9: 0.38),(10: 0.00),========iteration 11========\n",
      "(0: 0.50),(1: 0.86),(2: 0.71),(3: 1.00),(4: 0.29),(5: 1.00),(6: 0.52),(7: 0.14),(8: 0.00),(9: 0.38),(10: 0.00),========iteration 12========\n",
      "(0: 0.50),(1: 0.86),(2: 0.71),(3: 1.00),(4: 0.29),(5: 1.00),(6: 0.52),(7: 0.14),(8: 0.00),(9: 0.38),(10: 0.00),========iteration 13========\n",
      "(0: 0.50),(1: 0.86),(2: 0.71),(3: 1.00),(4: 0.29),(5: 1.00),(6: 0.52),(7: 0.14),(8: 0.00),(9: 0.38),(10: 0.00),"
     ]
    }
   ],
   "source": [
    "def rel_classifier():\n",
    "    # define graph as a list of lists\n",
    "    graph = []\n",
    "    graph.append([])  # node 0\n",
    "    graph.append([2, 3])  # node 1\n",
    "    graph.append([1, 3, 4]) # node 2\n",
    "    graph.append([]) # node 3\n",
    "    graph.append([2, 7, 8]) # node 4\n",
    "    graph.append([]) # node 5\n",
    "    graph.append([2, 5, 9, 10]) # node 6\n",
    "    graph.append([4, 8]) # node 7\n",
    "    graph.append([]) # node 8\n",
    "    graph.append([5, 6, 8, 10]) # node 9\n",
    "    graph.append([]) # node 10\n",
    "    \n",
    "    # define probabilities\n",
    "    prob = [0.5] * 11\n",
    "    prob[3] = 1.0\n",
    "    prob[5] = 1.0\n",
    "    prob[8] = 0.0\n",
    "    prob[10] = 0.0\n",
    "\n",
    "    it = 0\n",
    "    change = True\n",
    "    while change:\n",
    "        print(\"========iteration %d========\" % (it))\n",
    "        for (node_i, node_prob) in enumerate(prob):\n",
    "            print('(%d: %.2f)' % (node_i, prob[node_i]), end=',')\n",
    "        change = False\n",
    "\n",
    "\n",
    "\n",
    "        for (node_i, node_neighbors) in enumerate(graph):\n",
    "            if len(node_neighbors) == 0:\n",
    "                continue\n",
    "\n",
    "            prob_new = 0.0\n",
    "            for j in node_neighbors:\n",
    "                prob_new += prob[j] \n",
    "            prob_new = prob_new / len(node_neighbors)    \n",
    "\n",
    "            if abs(prob_new - prob[node_i]) > 1e-6: # if new prob ~= prob then stop iterating\n",
    "                prob[node_i] = prob_new\n",
    "                change = True\n",
    "\n",
    "        it += 1\n",
    "\n",
    "\n",
    "rel_classifier()\n"
   ]
  },
  {
   "cell_type": "markdown",
   "id": "95c613dc-b269-414e-acd6-d7a34b9578bf",
   "metadata": {},
   "source": [
    "- After the second iteration, P(Yi = +) for i = 2; 4; 6 is P(Y2 = +) =0.76; P(Y4 = +) =0.32; P(Y6 = +) =0.54\n",
    "- In the end nodes 1,2,3,5,6 belong to class \"+\" and nodes 4,7,8,9,10 belong to class \"-\""
   ]
  },
  {
   "cell_type": "markdown",
   "id": "bbf7fff2-97be-46ad-a199-d1ea0f585abb",
   "metadata": {},
   "source": [
    "### 1.2 Belief Propagation [15 points]\n",
    "In this problem, we will be using Belief Propagation(BP) on Conditional Random Field to solve inference problems. Conditional Random Fields (CRF) are an important special case of Markov Random Fields to model conditional probability distribution. They define a probability distribution p over variables x1, x2,..., xn and observations y1, y2,..., ym, which in turn elicit an undirected graph G."
   ]
  },
  {
   "cell_type": "markdown",
   "id": "6ec569b5-480b-4e71-85d3-f5faef88ef33",
   "metadata": {},
   "source": [
    "- Consider the network with four hidden nodes shown in Figure 3. Compute the belief at node 1, b_1(x_1), using the belief propagation rules, and write the result in terms of $\\phi$'s and  $\\psi$'s. [5 points]\n",
    "- Prove that the belief at node 1 calculated above, b_1(x_1), is the same as the marginal probability of x1 conditioned on the observations, p(x1|y1, y2, y3, y4). [2 points]\n",
    "- Write Python code to calculate b1(x1); b2(x2); b3(x3); b4(x4); b5(x5) by using a library like numpy. (You don't need to write a general BP algorithm|this coding assignment should be simply based on linear algebra, e.g., matrix multiplication, to help you calculate the belief values. It should not take you more than a few lines of code with numpy.) Is the prediction what you expected?"
   ]
  },
  {
   "cell_type": "markdown",
   "id": "70bb843a-fd8b-4154-bc41-ac6c71b78848",
   "metadata": {},
   "source": [
    "(i) $$  \n",
    "b_1(x_1) = \\frac{1}{Z}\\phi_1(x_1)*m_{21}(x_1) \n",
    "= \\frac{1}{Z}\\phi_1(x_1)* \\sum_{x_2} \\phi_2(x_2) \\psi_{21}(x_2,x_1) * m_{32}(x_2) * m_{42}(x_2)\n",
    "= \\frac{1}{Z}\\phi_1(x_1)* \\sum_{x_2} \\phi_2(x_2) \\psi_{21}(x_2,x_1) * (\\sum_{x_3} \\phi_3(x_3) \\psi_{32}(x_3,x_2) * \\sum_{x_4} \\phi_4(x_4) \\psi_{42}(x_4,x_2))\n",
    "$$"
   ]
  },
  {
   "cell_type": "markdown",
   "id": "b7514ffb-d79c-49b8-b0e6-3f3477893e9e",
   "metadata": {},
   "source": [
    "(ii) $$\n",
    "p(x_1|y_1, y_2, y_3, y_4)= p(x_1|y_1,x_2)\\sum_{x_2} p(x_2|y_2,x_3,x_4) * \\sum_{x_3} p(x_3|y_3) * \\sum_{x_4}p(x_4|y_4)\n",
    "=\\frac{1}{Z_1}\\phi_1(x_1) \\frac{1}{Z_2}\\sum_{x_2} \\psi_{1,2}(x_1,x_2) \\phi_2(x_2)* \\frac{1}{Z_3}\\sum_{x_3} \\psi_{2,3}(x_2,x_3)\\phi_3(x_3) * \\frac{1}{Z_4}\\sum_{x_4} \\psi_{2,4}(x_2,x_4)*\\phi_4(x_4)\n",
    "$$"
   ]
  },
  {
   "cell_type": "code",
   "execution_count": 3,
   "id": "1102df99-6a8d-4a44-a1e8-4682589bdeb1",
   "metadata": {},
   "outputs": [
    {
     "name": "stdout",
     "output_type": "stream",
     "text": [
      "b1: [1.418791 1.30009 ]\n",
      "b2: [2.4871   0.231781]\n",
      "b3: [0.418    2.300881]\n",
      "b4: [0.231781 2.4871  ]\n",
      "b5: [2.12971  0.589171]\n"
     ]
    }
   ],
   "source": [
    "# define states for nodes 0,1,2,3,4,5\n",
    "w12 = w34 = [[1,0.9],[0.9,1]]\n",
    "w23 = w35 = [[0.1,1],[1,0.1]]\n",
    "o2 = [1,0.1]\n",
    "o4 = [0.1,1]\n",
    "\n",
    "# calculate beliefs\n",
    "b1 = np.matmul(w12, np.matmul(w23, np.sum(w35, axis=1) * np.matmul(w34,o4)) * o2)\n",
    "b2 = np.matmul(w23, np.sum(w35, axis=1) * np.matmul(w34,o4)) * o2 * np.sum(w12, axis=1)\n",
    "b3 = np.sum(w35, axis=1) * np.matmul(w34,o4) * np.matmul(w23, np.sum(w12, axis=1) * o2)\n",
    "b4 = np.matmul(w34, np.sum(w35, axis=1) *  np.matmul(w23, np.sum(w12, axis=1) * o2 )) * o4\n",
    "b5 = np.matmul(w35, np.matmul(w23, np.sum(w12, axis = 1) * o2) * np.matmul(w34,o4)) \n",
    "\n",
    "print(\"b1:\", b1)\n",
    "print(\"b2:\", b2)\n",
    "print(\"b3:\", b3)\n",
    "print(\"b4:\", b4)\n",
    "print(\"b5:\", b5)"
   ]
  },
  {
   "cell_type": "markdown",
   "id": "a4d3e264-1b4f-4a97-b84f-83ad4d89bb73",
   "metadata": {},
   "source": [
    "$$\n",
    "b_1 = \\frac{1}{Z} [1.418791 \\ 1.30009 ] \n",
    "b_2 = \\frac{1}{Z} [2.4871   \\ 0.231781] \n",
    "b_3 = \\frac{1}{Z} [0.418    \\ 2.300881] \n",
    "b_4 = \\frac{1}{Z} [0.231781 \\ 2.4871  ] \n",
    "b_5 = \\frac{1}{Z} [2.12971  \\ 0.589171]\n",
    "$$"
   ]
  },
  {
   "cell_type": "markdown",
   "id": "1bb66e18-366a-4f7f-b7ca-69a23d3d499f",
   "metadata": {},
   "source": [
    "(iii) b2 and b4 match very well with observations y2 and y4. The matrices w23 = w35 can be interpreted as nodes 2-3 and 3-5 having oposite values, which corresponds to the results. The matrices w12 = w34 represent that nodes 1-2 and 3-4 have similar values, which corresponds well to the results for nodes 3-4, though not so well for nodes 1-2. Node 2 is mostly influenced by observation y2."
   ]
  },
  {
   "cell_type": "markdown",
   "id": "47b90bff-6406-4784-8e81-49bcf9af5fc3",
   "metadata": {},
   "source": [
    "## 2 Node Embeddings with TransE [25 points]"
   ]
  },
  {
   "cell_type": "markdown",
   "id": "6686d967-51b9-4fc9-87f0-51e39f15925e",
   "metadata": {},
   "source": [
    "While many real world systems are effectively modeled as graphs, graphs can be a cumbersome format for certain downstream applications, such as machine learning models. It is often useful to represent each node of a graph as a vector in a continuous low dimensional space. The goal is to preserve information about the structure of the graph in the vectors assigned to each node.\n",
    "Multi-relational graphs are graphs with multiple types of edges. They are incredibly useful for representing structured information, as in knowledge graphs. There may be one node representing \"Washington, DC\" and another representing \"United States\", and an edge between them with the type \"Is capital of\". In order to create an embedding for this type of graph, we need to capture information about not just which edges exist, but what the types of those edges are. In this problem, we will explore a particular algorithm designed to learn node embeddings for multi- relational graphs: TransE."
   ]
  },
  {
   "cell_type": "markdown",
   "id": "78ca68e1-ab07-4029-b614-ca3bb30c5c36",
   "metadata": {},
   "source": [
    "### Warmup: Why the Comparative Loss? [3 points]\n",
    "Give an example of a simple graph and corresponding embeddings which will minimize the new objective function (2) all the way to zero, but still give a completely useless embedding. (Note: your graph should be non-trivial, i.e., it should include at least two nodes and at least one edge. Assume the embeddings are in 2 dimensions, i.e., k = 2.)"
   ]
  },
  {
   "cell_type": "markdown",
   "id": "40e85d2a-e261-4481-aebc-01379a415f04",
   "metadata": {},
   "source": [
    "If we set all entities' embeddings e as (1,0) and all relations l (0,0) the loss would be 0. Yet these embeddings make no sense."
   ]
  },
  {
   "cell_type": "markdown",
   "id": "8517ee98-0bbe-4d0a-aeb7-cb129d88263a",
   "metadata": {},
   "source": [
    "### The Purpose of the Margin [5 points]\n",
    "Give an example of a simple graph and corresponding embeddings which will minimize the new objective function (3) all the way to zero, but still give a completely useless embedding. By useless, we mean that in your example, you cannot tell just from the embeddings whether two nodes are linked by a particular relation (Note: your graph should be non-trivial, i.e., it should include at least two nodes and at least one edge. Assume the embeddings are in 2 dimensions, i.e., k = 2.)"
   ]
  },
  {
   "cell_type": "markdown",
   "id": "47ac2b93-d6b1-4dae-98d4-c675cdd686dc",
   "metadata": {},
   "source": [
    "- Just like in the previous example, if we set all entities' embeddings e as (1,0) and all relations l (0,0) the loss would be 0. Yet these embeddings make no sense."
   ]
  },
  {
   "cell_type": "markdown",
   "id": "14b6e15e-0841-423b-aa6d-e2af0df1d0d8",
   "metadata": {},
   "source": [
    "### Why are Entity Embeddings Normalized? [7 points] \n",
    "Recall that TransE normalizes every entity embedding to have unit length (see line 5 of the algorithm). The quality of our embeddings would be much worse if we did not have this step. To understand why, imagine running the algorithm with line 5 omitted. What could the algorithm do to trivially minimize the loss in this case? What would the embeddings it generates look like?"
   ]
  },
  {
   "cell_type": "markdown",
   "id": "d1c1c35d-d4a4-4c65-bb99-14d371828a73",
   "metadata": {},
   "source": [
    "- The algorithm could change the norm of the embeddings to minimize the loss, so not all embeddings would be of the same length. For example, some embeddings could be large and others small."
   ]
  },
  {
   "cell_type": "markdown",
   "id": "6afc1eb8-7b2e-4d6f-ad05-b78a45e2d921",
   "metadata": {},
   "source": [
    "### Where TransE fails [10 points]\n",
    "Give an example of a simple graph for which no perfect embedding exists, i.e., no embedding perfectly satifies u + l = v for all (u; l; v) belonging to S and u + l != v for (u; l; v) not belonging to S, for any choice of entity embeddings (e for e 2 E) and relationship embeddings (l for l 2 L). Explain why this graph has no perfect embedding in this system, and what that means about the expressiveness of TransE embeddings. Assume the embeddings are in 2 dimensions (k = 2)."
   ]
  },
  {
   "cell_type": "markdown",
   "id": "dc14b7fb-0b37-4fec-ab97-18ee1347af3e",
   "metadata": {},
   "source": [
    "- In a graph that contains a 1-to-N relationship, meaning one node is related to N nodes with the same relationsihp (e.g. father related to children1, children2,..., children N). While children1, children2,..., children N are different entities and should be mapped to different embeddings e, u +l will always point to the same point v in the embedding space, which means all children would need to be mapped to that point v and therefore would not have different embeddings. So it's contradictory, there is no possible embedding no model this relationship in TransE."
   ]
  },
  {
   "cell_type": "markdown",
   "id": "87478846-baae-48f6-8a0f-bf8e175079cf",
   "metadata": {},
   "source": [
    "## 3 GNN Expressiveness [25 points]"
   ]
  },
  {
   "cell_type": "markdown",
   "id": "27e3f131-94b9-469e-a42a-933e2cff4388",
   "metadata": {},
   "source": [
    "Graph Neural Networks (GNNs) are a class of neural network architectures used for deep learning on graph-structured data. Broadly, GNNs aim to generate high-quality embeddings of nodes by iteratively aggregating feature information from local graph neighborhoods using neural net- works; embeddings can then be used for recommendations, classi cation, link prediction or other downstream tasks. Two important types of GNNs are GCNs (graph convolutional networks) and GraphSAGE (graph sampling and aggregation).\n",
    "\n",
    "These are the key steps in each layer of a GNN: Message computation, Aggregation, Update, Pooling.\n",
    "\n",
    "In this question, we investigate the effect of the number of message passing layers on the expressive power of Graph Convolutional Networks. In neural networks, expressiveness refers to the set of functions (usually the loss function for classification or regression tasks) a neural network is able to compute, which depends on the structural properties of a neural network architecture."
   ]
  },
  {
   "cell_type": "markdown",
   "id": "36ed5700-3fcb-4adc-8825-41d6142df0b4",
   "metadata": {},
   "source": [
    "### 3.1 Effect of Depth on Expressiveness [7 Points]"
   ]
  },
  {
   "cell_type": "markdown",
   "id": "86753034-aad5-4689-9b0e-64feacedc1ca",
   "metadata": {},
   "source": [
    "(i) Consider the following 2 graphs, where all nodes have 1-dimensional feature [1]. We use a simplified version of GNN, with no nonlinearity and linear layers, and sum aggregation. We run the GNN to compute node embeddings for the 2 red nodes respectively. Note that the 2 red nodes have different 4-hop neighborhood structure. How many layers of message passing are needed so that these 2 nodes can be distinguished (i.e., have different GNN embeddings)?"
   ]
  },
  {
   "cell_type": "markdown",
   "id": "1c91d61f-180f-47fa-ae22-d59bf82d269c",
   "metadata": {},
   "source": [
    "- Three layers would be needed in the GCN to be able to distinguish the red nodes, because both have the same 2-hop neighborhood structure."
   ]
  },
  {
   "cell_type": "markdown",
   "id": "d905f7d6-0e03-4d87-9468-9bfdf77e623a",
   "metadata": {},
   "source": [
    "(ii) Consider training a GNN on a node classification task, where nodes are classified to be positive if they are part of an induced cyclic subgraph of length 10, and negative otherwise. Give an example of a graph and the node which should be classified as True. Show that no GNN with fewer than 5 layers can perfectly perform this classification task."
   ]
  },
  {
   "attachments": {
    "57eed5f8-8182-40f9-bc15-5dc49b5e518c.png": {
     "image/png": "[encoded data removed]"
    }
   },
   "cell_type": "markdown",
   "id": "506e8967-0d2f-473a-a4ec-bf6d8f7a1116",
   "metadata": {},
   "source": [
    "![image.png](attachment:57eed5f8-8182-40f9-bc15-5dc49b5e518c.png)"
   ]
  },
  {
   "cell_type": "markdown",
   "id": "42925a09-c4b0-4318-8c2f-ab927948a590",
   "metadata": {},
   "source": [
    "- In this example, nodes a and b have the same 4-hop neighborhood structure so they would not be classified differently by the model. A GNN with 5 layers would identify node a as being part of a cyclic subgraph (positive) and node b as not being part of a cyclic subgraph (negative)."
   ]
  },
  {
   "cell_type": "markdown",
   "id": "c8039296-1e92-4cb9-8bda-b0a2002c4562",
   "metadata": {},
   "source": [
    "### 3.2 Relation to Random Walk [7 Points]"
   ]
  },
  {
   "cell_type": "markdown",
   "id": "ac355a0f-b37b-431e-afa4-9843586cd1f3",
   "metadata": {},
   "source": [
    "(i) Let's explore similarity between message passing and random walks. Let h(l) i be the embedding of node i in layer l. Suppose that we are using a mean aggregator for message passing, and omit the learned linear transformation and non-linearity. \n",
    "If we start at a node u, and take a uniform random walk for 1 step, the expectation of the embedding of the node we end on is exactly the embedding of u in the next layer. What is the transition matrix of the random walk? Describe the transition matrix using the adjacency matrix A, and degree matrix D, a diagonal matrix where Di;i is the degree of node i."
   ]
  },
  {
   "cell_type": "markdown",
   "id": "55458857-4a2d-4e91-a6c3-ea7773839196",
   "metadata": {},
   "source": [
    "- The entry (i,j) in the transition matrix is $1/D_{ij}$ for connected nodes i,j and 0 otherwise. So: $D^{(-1)}*A$"
   ]
  },
  {
   "cell_type": "markdown",
   "id": "98ea155f-b2aa-4dfc-9c5e-82d914f8e8a1",
   "metadata": {},
   "source": [
    "(ii) Suppose that we add skip connection in aggregation of 1/2. What is the corresponding transition matrix?"
   ]
  },
  {
   "cell_type": "markdown",
   "id": "a93f4a78-24f6-4e75-8522-7f990b606758",
   "metadata": {},
   "source": [
    "- The entry in the transition matrix is now 1/2 for each node self-entry (i.e. when i = j) and $1/2*D_{ij}$ for connected nodes (i,j), and 0 otherwise. So: $1/2 * D^{(-1)}*A + 1/2 * I$"
   ]
  },
  {
   "cell_type": "markdown",
   "id": "37cd81f1-4ec9-4e4a-a8f8-602bdd560027",
   "metadata": {},
   "source": [
    "### 3.3 Over-Smoothing Effect [5 Points]"
   ]
  },
  {
   "cell_type": "markdown",
   "id": "90c6d6ca-237d-4323-b592-e6b30abce99e",
   "metadata": {},
   "source": [
    "(i) In Question 3.1 we see that increasing depth could give more expressive power. On the other hand, however, very large depth also gives rise to the undesirable effect of oversmoothing. Assume we are still using the aggregation function from part 3.2 (i). \n",
    "Show that the node embedding $h_i^{(l)}$ will converge as $l \\to \\infty$. Here we assume that the graph is connected and has no bipartite components. In practice, learnable weights, non-linearity and other architecture choices may alleviate the over-smoothing effect."
   ]
  },
  {
   "cell_type": "markdown",
   "id": "b311dd25-e9b3-4fb1-98a0-2cede820a551",
   "metadata": {},
   "source": [
    "- From 3.2. (i), the transition matrix for message passing is $D^{(-1)}*A$. So, after l message passing, $h^{(l)} = (D^{(-1)}*A)^l * h$. TO BE COMPLETED!!\n",
    "Proof that embedding converges, using Markov chain.??"
   ]
  },
  {
   "cell_type": "markdown",
   "id": "3bd949a8-449e-41fd-8d0a-94c89ef92656",
   "metadata": {},
   "source": [
    "### 3.4 Learning BFS with GNN [6 Points]"
   ]
  },
  {
   "cell_type": "markdown",
   "id": "2e93a995-55ee-41ed-ae71-f455a5b2b80d",
   "metadata": {},
   "source": [
    "(i) Next we investigate the expressive power of GNN for learning simple graph algorithms. Consider breadth-first search (BFS), where at every step, nodes that are connected to visited nodes become visited. Suppose that we use GNN to learn to execute the BFS algorithm. Suppose that the embeddings are 1-dimensional. Initially, all nodes have input feature 0, except a source node which has input feature 1. At every step, nodes reached by BFS has embedding 1, and nodes not reached by BFS has embedding 0. Write the update rule at every step of BFS execution."
   ]
  },
  {
   "cell_type": "markdown",
   "id": "a1c8d17c-76c2-4867-82fb-638c39e08c65",
   "metadata": {},
   "source": [
    "- The rule would be something like: At every step, for every node, if the node is visited or any of its neighbors is visited, then embedding = 1; otherwise embedding = 0."
   ]
  },
  {
   "cell_type": "markdown",
   "id": "e350a16f-10d8-401f-97e1-799e558788ce",
   "metadata": {},
   "source": [
    "(ii) Describe a message function and an aggregation function for the GNN such that it learns the task perfectly."
   ]
  },
  {
   "cell_type": "markdown",
   "id": "d209377e-8311-4119-a34d-61449deedef8",
   "metadata": {},
   "source": [
    "- Message passing: $h_i^{(l+1)} = M(h_j^{(l)}, h_i^{(l)})$\n",
    "- Aggregation function: $h_i^{(l+1)} = max(h_j^{(l)})_{j\\in N_i}$"
   ]
  },
  {
   "cell_type": "markdown",
   "id": "2a2c6c00-49c0-49b5-8ec6-77a8e8ec1a65",
   "metadata": {},
   "source": [
    "## 4 GNN training [25 Points]"
   ]
  },
  {
   "cell_type": "markdown",
   "id": "f37e769c-f352-412f-9ca2-6c784dd34a9a",
   "metadata": {},
   "source": [
    "Attention mechanisms have become the state-of-the-art in many sequence-based tasks such as machine translation and learning sentence representations. One of the major benefits of attention- based mechanisms is their ability to focus on the most relevant parts of the input to make decisions. In this problem, we will see how attention mechanisms can be used to perform node classification of graph-structured data through the usage of Graph Attention Networks (GATs).\n",
    "\n",
    "The building block of the Graph Attention Network is the graph attention layer, which is a variant of the aggregation function. Let N be the number of nodes and F be the dimension of the feature vector for each node. The input to each graph attentional layer is a set of node features h of dimension F. The output of each graph attentional layer is a new set of node features, which may have a new dimesion F'. This transformation of the input features into higher-level features performed by each graph attention layer consists of first a shared linear transformation parametrized by the weight matrix W (FxF') that is applied to every node and then the self-attention mechanism (which computes the attention coefficients that capture the importance of node j's features to node i $e_{ij} = a(Wh_i, Wh_j)$). \n",
    "\n",
    "To utilize graph structure in the attention mechanisms, we can use masked attention. In masked attention, we only compute $e_{ij}$ for nodes $j \\in N_i$ where $N_i$ is some neighborhood of node i in the graph. To easily compare coeficients across different nodes, we normalize the coeficients across j using a softmax function.\n",
    "\n",
    "For this problem, our attention mechanism a will be a single-layer feedforward neural network parametrized by a weight vector a of dimensions 2F' (attention coefficients $e_{ij} = a(Wh_i, Wh_j)$), followed by a LeakyReLU nonlinearity (with negative input slope 0.2). The coefficients will be normalized using softmax and these normalized attention coefficients ($\\alpha_{ij}$) are used to compute a linear combination of the features corresponding to them. These aggregated features will serve as the final output features for every node."
   ]
  },
  {
   "cell_type": "markdown",
   "id": "87ac2d56-fb1b-48cf-a34d-badf4cd862ee",
   "metadata": {},
   "source": [
    "In this problem, we will be implementing a general Graph Neural Network Stack, as well as Graph-SAGE and GATs. We will use our implementations to complete graph and node classification on two benchmarks:  \n",
    "- CORA is a standard citation network benchmark dataset. In this dataset, nodes correspond to documents and edges correspond to undirected citations. Each node has a class label. The node features are elements of a bag-or-words representation of a document. For the Cora dataset, there are 2708 nodes, 5429 edges, 7 prediction classes for nodes, and 1433 features per node. We will be performing node classification on CORA.\n",
    "- ENZYMES is a relatively small graph classi cation benchmark, containing graphs representing the protein tertiary structures from the BRENDA enzyme database. The task is to correctly assign each enzyme to one of the 6 EC top-level classes. It has 600 graphs, classified into 6 classes. The average number of nodes 32.63; average number of edges 62.14. Every node has attribute with 18 dimensions. We will be performing graph classi cation on ENZYMES."
   ]
  },
  {
   "cell_type": "markdown",
   "id": "d5d9f8b2-a719-4eb5-bfcd-678c71a6bd01",
   "metadata": {},
   "source": [
    "### 4.1 Examine Dataset [1 Point]\n",
    "First let's examine the data. To do this, you will need use train.py. How many nodes are there in the test set of CORA? How many graphs are there in the test set of ENZYMES?"
   ]
  },
  {
   "cell_type": "code",
   "execution_count": 6,
   "id": "e9b6272d-767f-4fc4-840d-206c6ac31367",
   "metadata": {},
   "outputs": [],
   "source": [
    "import argparse\n",
    "import time\n",
    "import networkx as nx\n",
    "import numpy as np\n",
    "import torch\n",
    "import torch.optim as optim\n",
    "from torch_geometric.datasets import TUDataset\n",
    "from torch_geometric.datasets import Planetoid\n",
    "from torch_geometric.data import DataLoader\n",
    "import torch_geometric.nn as pyg_nn\n",
    "#import models\n",
    "import q4_starter_code.models \n",
    "#import utils\n",
    "import q4_starter_code.utils"
   ]
  },
  {
   "cell_type": "code",
   "execution_count": 26,
   "id": "f00a4309-b541-4307-bd4f-1a7c80f96f88",
   "metadata": {},
   "outputs": [],
   "source": [
    "# cora dataset\n",
    "dataset = Planetoid(root='./data', name='Cora')\n",
    "cora_dataset = dataset[0]"
   ]
  },
  {
   "cell_type": "code",
   "execution_count": 44,
   "id": "1402a780-dbe4-47c5-8cfa-b7693b4464e9",
   "metadata": {},
   "outputs": [
    {
     "name": "stdout",
     "output_type": "stream",
     "text": [
      "Number of nodes: 2708\n",
      "Number of edges: 10556\n",
      "Has isolated nodes: False\n",
      "Has self-loops: False\n",
      "Is undirected: True\n"
     ]
    }
   ],
   "source": [
    "# number of nodes\n",
    "print(f'Number of nodes: {cora_dataset.num_nodes}')\n",
    "print(f'Number of edges: {cora_dataset.num_edges}')\n",
    "print(f'Has isolated nodes: {cora_dataset.has_isolated_nodes()}')  # False\n",
    "print(f'Has self-loops: {cora_dataset.has_self_loops()}')  # False\n",
    "print(f'Is undirected: {cora_dataset.is_undirected()}')  # True => edge count is double the actual count because of the bi-directional edge information included"
   ]
  },
  {
   "cell_type": "code",
   "execution_count": 56,
   "id": "014efbeb-6c9f-48a6-b067-9bb1b2994151",
   "metadata": {},
   "outputs": [
    {
     "name": "stdout",
     "output_type": "stream",
     "text": [
      "Number of training nodes: 140\n",
      "Number of validation nodes: 500\n",
      "Number of test nodes: 1000\n"
     ]
    }
   ],
   "source": [
    "print(f'Number of training nodes: {cora_dataset.train_mask.sum()}')\n",
    "print(f'Number of validation nodes: {cora_dataset.val_mask.sum()}')\n",
    "print(f'Number of test nodes: {cora_dataset.test_mask.sum()}')"
   ]
  },
  {
   "cell_type": "markdown",
   "id": "7da88b0a-597f-4410-a93b-ce1ba2a8c9aa",
   "metadata": {},
   "source": [
    "- There are 1000 test nodes."
   ]
  },
  {
   "cell_type": "code",
   "execution_count": 57,
   "id": "8a87b678-0a57-4ba1-88a4-d5c4c3db7887",
   "metadata": {},
   "outputs": [
    {
     "data": {
      "text/plain": [
       "600"
      ]
     },
     "execution_count": 57,
     "metadata": {},
     "output_type": "execute_result"
    }
   ],
   "source": [
    "# download enzymes dataset\n",
    "dataset = TUDataset(root='./data', name='ENZYMES')\n",
    "len(dataset)"
   ]
  },
  {
   "cell_type": "markdown",
   "id": "7e549813-3561-4184-86b2-46e3225ca877",
   "metadata": {},
   "source": [
    "- There are 600 graphs in the Enzymes dataset"
   ]
  },
  {
   "cell_type": "markdown",
   "id": "1d5de64e-2b14-4d5b-82bf-be6edb11ff14",
   "metadata": {},
   "source": [
    "Now we will implement the GNN Stack. Complete the forward method for GNNStack in models.py. For the purpose of this exercise, each layer of the GNN stack should contain a CONV -> RELU -> DROPOUT structure, where the CONV layer is specified by the model type. This forward call will be used for both the node classification task and graph\n",
    "classification task later."
   ]
  },
  {
   "cell_type": "markdown",
   "id": "01ccdaf8-7671-45ef-a2f5-1ae148fa2753",
   "metadata": {},
   "source": [
    " - This task was done in the models.py file. This is the code chunk I added:\n"
   ]
  },
  {
   "cell_type": "raw",
   "id": "7b78d1ad-ea70-4947-a56e-29ec63d93403",
   "metadata": {},
   "source": [
    "for i in range(self.num_layers):\n",
    "    x = self.convs[i](x, edge_index)  # module list of conv layers, apply layer i using x (features/embedding) and edge_index (adjacency matrix)\n",
    "    x = F.relu(x)\n",
    "    x = F.dropout(x, p=self.dropout, training=self.training)\n",
    "\n",
    "if self.task == 'graph':\n",
    "    x = pyg_nn.global_max_pool(x, batch)"
   ]
  },
  {
   "cell_type": "markdown",
   "id": "a1cdbe26-55e2-4788-a9d6-655785e9c029",
   "metadata": {},
   "source": [
    "Complete the GraphSage implementation in models.py by filling in the init , forward, and message methods. Use Algorithm 1 given in Question 3 for reference. For the aggregate function, we will be using a dense layer followed by a RELU non-linearity, and a mean aggregator."
   ]
  },
  {
   "cell_type": "markdown",
   "id": "4cf3526b-38de-4c9b-b059-68d6dc002bd7",
   "metadata": {},
   "source": [
    "- This task was done in the models.py file."
   ]
  },
  {
   "cell_type": "markdown",
   "id": "caf6ae79-36d0-47a5-9fda-929df5b046b3",
   "metadata": {},
   "source": [
    "Complete the GAT implementation by filling in the init , forward, and message methods. In init we will need to define the layers we need for the attention mechanism and for aggregating the final features. In forward, we will apply a linear transformation to the node feature matrix before starting message propagation. For message, we will implement GAT message passing following the equation 7."
   ]
  },
  {
   "cell_type": "markdown",
   "id": "b3134826-60f4-4d85-97f7-5490e6d5a0aa",
   "metadata": {},
   "source": [
    "- This task was done in the models.py file"
   ]
  },
  {
   "cell_type": "markdown",
   "id": "35fd4337-b09d-4c28-89ca-8c2dc21dbea2",
   "metadata": {},
   "source": [
    "Run GNN training for node classi cation task on the CORA dataset, and graph classification task on the ENZYMES dataset. Do this for GCN, GraphSage, and GAT. You will be using the Torch Geometric implementation of GCN, and your implementations of GraphSage and GAT. You can specify the model type to use in training by the flag-model.type of train.py. Write code to plot the validation accuracy over number of epochs. For each dataset, please plot the validation accuracy vs epochs for each of the models."
   ]
  },
  {
   "cell_type": "markdown",
   "id": "4a420144-f374-4514-b60d-110687d854c2",
   "metadata": {},
   "source": [
    "- This task was done in train.py; Plots are attached to submission"
   ]
  },
  {
   "cell_type": "code",
   "execution_count": 1,
   "id": "6165d858-cad2-4b46-9759-b549d5c6feaf",
   "metadata": {},
   "outputs": [],
   "source": [
    "# function to plot performance:\n",
    "def plot_performance(performance_dict, args, task):\n",
    "    # Compare the validation loss\n",
    "    for type in performance_dict.keys():\n",
    "        plt.plot(performance_dict[type]['validation_acc'], label=type + ' validation accuracy')\n",
    "    #    plt.plot(performance_dict[type]['training_loss'], label=type + ' training loss')\n",
    "    plt.ylabel('validation accuracy')\n",
    "    plt.xlabel('epochs ')\n",
    "    plt.legend()\n",
    "    plt.savefig('_'.join(['performance', args.dataset, task])+ '.png')\n",
    "    plt.show()"
   ]
  }
 ],
 "metadata": {
  "kernelspec": {
   "display_name": "cs224w",
   "language": "python",
   "name": "cs224w"
  },
  "language_info": {
   "codemirror_mode": {
    "name": "ipython",
    "version": 3
   },
   "file_extension": ".py",
   "mimetype": "text/x-python",
   "name": "python",
   "nbconvert_exporter": "python",
   "pygments_lexer": "ipython3",
   "version": "3.7.11"
  }
 },
 "nbformat": 4,
 "nbformat_minor": 5
}
