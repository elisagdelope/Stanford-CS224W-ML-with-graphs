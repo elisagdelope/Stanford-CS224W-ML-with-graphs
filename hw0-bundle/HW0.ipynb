{
 "cells": [
  {
   "cell_type": "markdown",
   "id": "56b14d36",
   "metadata": {},
   "source": [
    "# CS224W: Machine Learning with Graphs - Homework 0\n",
    "Fall 2019"
   ]
  },
  {
   "cell_type": "markdown",
   "id": "330b3c41",
   "metadata": {},
   "source": [
    "## 1 Analyzing the Wikipedia voters network [27 points]\n",
    "Download the Wikipedia voting network wiki-Vote.txt.gz: http://snap.stanford.edu/\n",
    "data/wiki-Vote.html. <br>\n",
    "Using one of the network analysis tools, load the Wikipedia voting network. Note that Wikipedia is a directed network. Formally, we consider the Wikipedia network as a directed graph G = (V, E), with node set V and edge set *E C V x V* where (edges are ordered pairs of nodes). An edge (a; b) belonging to E means that user a voted on user b. <br>\n",
    "To make our questions clearer, we will use the following small graph as a running example:\n",
    "Gsmall = (Vsmall;Esmall), where Vsmall = {1, 2, 3} and Esmall = {(1, 2), (2, 1), (1, 3), (1, 1)}.\n",
    "Compute and print out the following statistics for the wiki-Vote network:"
   ]
  },
  {
   "cell_type": "code",
   "execution_count": 1,
   "id": "86f40954",
   "metadata": {},
   "outputs": [],
   "source": [
    "import snap"
   ]
  },
  {
   "cell_type": "code",
   "execution_count": 55,
   "id": "006eed7f",
   "metadata": {},
   "outputs": [],
   "source": [
    "# Load wiki-vote network\n",
    "G = snap.LoadEdgeList(snap.TNEANet, \"data/wiki-Vote.txt\", 0, 1)\n"
   ]
  },
  {
   "cell_type": "code",
   "execution_count": 4,
   "id": "4ce70454",
   "metadata": {},
   "outputs": [
    {
     "name": "stdout",
     "output_type": "stream",
     "text": [
      "7115\n"
     ]
    }
   ],
   "source": [
    "# 1. The number of nodes in the network. (Gsmall has 3 nodes.)\n",
    "print(G.GetNodes())"
   ]
  },
  {
   "cell_type": "code",
   "execution_count": 6,
   "id": "62b11cc7",
   "metadata": {},
   "outputs": [
    {
     "name": "stdout",
     "output_type": "stream",
     "text": [
      "0\n"
     ]
    }
   ],
   "source": [
    "# 2. The number of nodes with a self-edge (self-loop), i.e., the number of nodes a ∈ V where (a, a) ∈ E. \n",
    "# (G small has 1 self-edge.)\n",
    "print(G.CntSelfEdges())"
   ]
  },
  {
   "cell_type": "code",
   "execution_count": 7,
   "id": "062e8fb7",
   "metadata": {},
   "outputs": [
    {
     "name": "stdout",
     "output_type": "stream",
     "text": [
      "Directed Graph: Count of unique directed edges is 103689\n"
     ]
    }
   ],
   "source": [
    "# 3. The number of directed edges in the network, i.e., the number of ordered pairs (a; b) ∈ E for which a != b. \n",
    "# (Gsmall has 3 directed edges.)\n",
    "\n",
    "Count = G.CntUniqDirEdges()\n",
    "print(\"Directed Graph: Count of unique directed edges is %d\" % Count)\n"
   ]
  },
  {
   "cell_type": "code",
   "execution_count": 8,
   "id": "fccf0d1e",
   "metadata": {},
   "outputs": [
    {
     "name": "stdout",
     "output_type": "stream",
     "text": [
      "Directed Graph: Count of unique undirected edges is 100762\n"
     ]
    }
   ],
   "source": [
    "# 4 The number of undirected edges in the network, i.e., the number of unique unordered pairs (a, b), a != b, for \n",
    "# which (a, b) ∈ E or (b, a) ∈ E (or both). If both (a, b) and (b, a) are edges, this counts a single undirected edge. \n",
    "# (G small has 2 undirected edges.)\n",
    "\n",
    "Count = G.CntUniqUndirEdges()\n",
    "print(\"Directed Graph: Count of unique undirected edges is %d\" % Count)\n"
   ]
  },
  {
   "cell_type": "code",
   "execution_count": 9,
   "id": "d6440174",
   "metadata": {},
   "outputs": [
    {
     "name": "stdout",
     "output_type": "stream",
     "text": [
      "Directed Graph: Count of unique bidirectional edges is 2927\n"
     ]
    }
   ],
   "source": [
    "# 5 The number of reciprocated edges in the network, i.e., the number of unique unordered pairs of nodes (a, b), \n",
    "# a != b, for which (a, b) ∈ E and (b, a) ∈ E. (G small has 1 reciprocated edge.)\n",
    "\n",
    "Count = G.CntUniqBiDirEdges()\n",
    "print(\"Directed Graph: Count of unique bidirectional edges is %d\" % Count)"
   ]
  },
  {
   "cell_type": "code",
   "execution_count": 13,
   "id": "c7967b11",
   "metadata": {},
   "outputs": [
    {
     "name": "stdout",
     "output_type": "stream",
     "text": [
      "1005\n"
     ]
    }
   ],
   "source": [
    "# 6 The number of nodes of zero out-degree. (G small has 1 node with zero out-degree.)\n",
    "\n",
    "count = 0\n",
    "for NI in G.Nodes():\n",
    "#    print(\"node id %d with out-degree %d\" % (NI.GetId(), NI.GetOutDeg()))\n",
    "    d = NI.GetOutDeg()\n",
    "    if d == 0:\n",
    "        count = count + 1\n",
    "print(count)"
   ]
  },
  {
   "cell_type": "code",
   "execution_count": 18,
   "id": "0eda696f",
   "metadata": {},
   "outputs": [
    {
     "name": "stdout",
     "output_type": "stream",
     "text": [
      "4734\n"
     ]
    }
   ],
   "source": [
    "# 7 The number of nodes of zero in-degree. (G small has 0 nodes with zero in-degree.)\n",
    "\n",
    "DegToCntV = snap.TIntPrV()\n",
    "snap.GetInDegCnt(G, DegToCntV)\n",
    "for item in DegToCntV:\n",
    "    if item.GetVal1()==0:\n",
    "        count=item.GetVal2()\n",
    "print(count)    \n"
   ]
  },
  {
   "cell_type": "code",
   "execution_count": 19,
   "id": "bbaca1b6",
   "metadata": {},
   "outputs": [
    {
     "name": "stdout",
     "output_type": "stream",
     "text": [
      "1612\n"
     ]
    }
   ],
   "source": [
    "# 8 The number of nodes with more than 10 outgoing edges (out-degree > 10). \n",
    "\n",
    "DegToCntV = G.GetOutDegCnt()\n",
    "\n",
    "count = 0\n",
    "for item in DegToCntV:\n",
    "    if item.GetVal1() > 10:\n",
    "        count= count + item.GetVal2()\n",
    "print(count)    \n"
   ]
  },
  {
   "cell_type": "code",
   "execution_count": 21,
   "id": "ce23317d",
   "metadata": {},
   "outputs": [
    {
     "name": "stdout",
     "output_type": "stream",
     "text": [
      "5165\n"
     ]
    }
   ],
   "source": [
    "# 9 The number of nodes with more than 10 incoming edges (in-degree > 10). \n",
    "\n",
    "DegToCntV = G.GetInDegCnt()\n",
    "\n",
    "count = 0\n",
    "for item in DegToCntV:\n",
    "    if item.GetVal1() < 10:\n",
    "        count= count + item.GetVal2()\n",
    "print(count)    \n"
   ]
  },
  {
   "cell_type": "markdown",
   "id": "eca50dd7",
   "metadata": {},
   "source": [
    "## 2 Further Analyzing the Wikipedia voters network [33 points]"
   ]
  },
  {
   "cell_type": "markdown",
   "id": "6209e060",
   "metadata": {},
   "source": [
    " Plot the distribution of out-degrees of nodes in the network on a log-log scale. Each data point is a pair (x, y) where x is a positive integer and y is the number of nodes in the network with out-degree equal to x. Restrict the range of x between the minimum and maximum out-degrees. You may filter out data points with a 0 entry. For the log-log scale, use base 10 for both x and y axes"
   ]
  },
  {
   "cell_type": "code",
   "execution_count": 23,
   "id": "73649509",
   "metadata": {},
   "outputs": [],
   "source": [
    "import numpy as np\n",
    "DegToCntV = G.GetOutDegCnt()\n",
    "x = []\n",
    "y = []\n",
    "for item in DegToCntV:\n",
    "    if item.GetVal1()>0:\n",
    "        x.append(np.log10(item.GetVal1()))\n",
    "        y.append(np.log10(item.GetVal2()))"
   ]
  },
  {
   "cell_type": "code",
   "execution_count": 25,
   "id": "7a30df7f",
   "metadata": {},
   "outputs": [
    {
     "data": {
      "text/plain": [
       "Text(0.5, 1.0, 'Distribution of out-degrees')"
      ]
     },
     "execution_count": 25,
     "metadata": {},
     "output_type": "execute_result"
    },
    {
     "data": {
      "image/png": "[encoded data removed]",
      "text/plain": [
       "<Figure size 432x288 with 1 Axes>"
      ]
     },
     "metadata": {
      "needs_background": "light"
     },
     "output_type": "display_data"
    }
   ],
   "source": [
    "from matplotlib import pyplot\n",
    "pyplot.plot(x,y)\n",
    "pyplot.xlabel('Out-deegree')\n",
    "pyplot.ylabel('Number of Nodes')\n",
    "pyplot.title('Distribution of out-degrees')\n"
   ]
  },
  {
   "cell_type": "markdown",
   "id": "201416b2",
   "metadata": {},
   "source": [
    "Compute and plot the least-square regression line for the out-degree distribution in the log-log scale plot. Note we want to find coefficients a and b such that the function log10(y) = a · log10(x) + b, equivalently, y = 10^b · x^a , best fits the out-degree distribution. What are the coefficients a and b? For this part, you might want to use the method called polyfit in NumPy with deg parameter equal to 1. "
   ]
  },
  {
   "cell_type": "code",
   "execution_count": 26,
   "id": "309687eb",
   "metadata": {},
   "outputs": [
    {
     "name": "stdout",
     "output_type": "stream",
     "text": [
      "-1.2810647056745657 3.1324547044999123\n"
     ]
    }
   ],
   "source": [
    "# Polyfit is a numpy function that computes a least squares polynomial for a given set of data. \n",
    "# Polyfit generates the coefficients of the polynomial, which can be used to model a curve to fit the data.\n",
    "a,b = np.polyfit(x, y, 1)\n",
    "print(a,b)"
   ]
  },
  {
   "cell_type": "code",
   "execution_count": 28,
   "id": "268d9865",
   "metadata": {},
   "outputs": [
    {
     "data": {
      "text/plain": [
       "<matplotlib.legend.Legend at 0x7fdb41770c10>"
      ]
     },
     "execution_count": 28,
     "metadata": {},
     "output_type": "execute_result"
    },
    {
     "data": {
      "image/png": "[encoded data removed]",
      "text/plain": [
       "<Figure size 432x288 with 1 Axes>"
      ]
     },
     "metadata": {
      "needs_background": "light"
     },
     "output_type": "display_data"
    }
   ],
   "source": [
    "pyplot.plot(x,y)\n",
    "pyplot.xlabel('Out-deegree')\n",
    "pyplot.ylabel('Number of Nodes')\n",
    "pyplot.title('Distribution of out-degrees')\n",
    "\n",
    "x2=np.linspace(min(x),max(y),100)\n",
    "pyplot.plot(x2, a*x2+b)\n",
    "pyplot.legend(['Data line','Regression line'])"
   ]
  },
  {
   "cell_type": "markdown",
   "id": "bbbaea1f",
   "metadata": {},
   "source": [
    "## 3 Finding Experts on the Java Programming Language on StackOverow [40 points]"
   ]
  },
  {
   "cell_type": "markdown",
   "id": "a47458db",
   "metadata": {},
   "source": [
    "Download the StackOverow network stackoverflow-Java.txt.gz: http://snap.stanford.edu/class/cs224w-data/hw0/stackoverflow-Java.txt.gz. <br> An edge (a, b) in the network means that person a endorsed an answer from person b on a Java-related question. <br>Using one of the network analysis tools, load the StackOverflow network. Note that StackOverflow is a directed network. Compute and print out the following statistics for the stackoverflow-Java network:"
   ]
  },
  {
   "cell_type": "code",
   "execution_count": 56,
   "id": "a0f49950",
   "metadata": {},
   "outputs": [],
   "source": [
    "# Load wiki-vote network\n",
    "G1 = snap.LoadEdgeList(snap.TNEANet, \"data/stackoverflow-Java.txt\", 0, 1)"
   ]
  },
  {
   "cell_type": "code",
   "execution_count": 34,
   "id": "5e9012a4",
   "metadata": {},
   "outputs": [
    {
     "data": {
      "text/plain": [
       "10143"
      ]
     },
     "execution_count": 34,
     "metadata": {},
     "output_type": "execute_result"
    }
   ],
   "source": [
    "# 1. The number of weakly connected components in the network. This value can be calculated in Snap.py via \n",
    "# function GetWccs.\n",
    "Components = G1.GetWccs()\n",
    "Components.Len()\n"
   ]
  },
  {
   "cell_type": "code",
   "execution_count": 36,
   "id": "8e27893d",
   "metadata": {},
   "outputs": [
    {
     "data": {
      "text/plain": [
       "(131188, 347297)"
      ]
     },
     "execution_count": 36,
     "metadata": {},
     "output_type": "execute_result"
    }
   ],
   "source": [
    "# 2. The number of edges and the number of nodes in the largest weakly connected component. The largest weakly \n",
    "# connected component is calculated in Snap.py with function GetMxWcc.\n",
    "G1_MxWcc = G1.GetMxWcc()\n",
    "G1_MxWcc.GetNodes(), G1_MxWcc.GetEdges()"
   ]
  },
  {
   "cell_type": "code",
   "execution_count": 48,
   "id": "600a2172",
   "metadata": {},
   "outputs": [
    {
     "data": {
      "text/plain": [
       "[992484, 135152, 139985]"
      ]
     },
     "execution_count": 48,
     "metadata": {},
     "output_type": "execute_result"
    }
   ],
   "source": [
    "# 3. IDs of the top 3 most central nodes in the network by PagePank scores. PageRank scores are calculated in Snap.py \n",
    "# with function GetPageRank.\n",
    "PageRankscores = G1.GetPageRank() # Hash where keys are int node ids, values are float PageRank scores.\n",
    "\n",
    "# sort scores by descending order\n",
    "sorted_PageRankscores = {k: v for k, v in sorted(PageRankscores.items(), key=lambda x: x[1], reverse = True)}\n",
    "list(sorted_PageRankscores.keys())[:3]"
   ]
  },
  {
   "cell_type": "code",
   "execution_count": 53,
   "id": "0a356621",
   "metadata": {},
   "outputs": [
    {
     "name": "stdout",
     "output_type": "stream",
     "text": [
      "         Node      HITS\n",
      "18949  614141  0.258938\n",
      "9983   240337  0.179521\n",
      "4404   100516  0.169554\n",
      "        Node      HITS\n",
      "1594  157882  0.799060\n",
      "1027   22656  0.312252\n",
      "8146  203907  0.216612\n"
     ]
    }
   ],
   "source": [
    "# 4. IDs of the top 3 hubs and top 3 authorities in the network by HITS scores. HITS scores are calculated in Snap.py \n",
    "# with function GetHits.\n",
    "import pandas as pd\n",
    "\n",
    "HubsScores, AuthScores = G1.GetHits() # returns 2 hashes with the Hubs and Authorities score of every node (keys are int node ids; values are float hub/authorities scores)\n",
    "\n",
    "hubs_list=[]\n",
    "aths_list=[]\n",
    "\n",
    "for item in HubsScores:\n",
    "    hubs_list.append([item, HubsScores[item]])   \n",
    "for item in AuthScores:\n",
    "    aths_list.append([item, AuthScores[item]])\n",
    "\n",
    "hubs=pd.DataFrame(hubs_list, columns=['Node','HITS']).sort_values(by='HITS',ascending=0)\n",
    "aths=pd.DataFrame(aths_list, columns=['Node','HITS']).sort_values(by='HITS',ascending=0)\n",
    "\n",
    "print(hubs[:3])\n",
    "print(aths[:3])"
   ]
  }
 ],
 "metadata": {
  "kernelspec": {
   "display_name": "cs224w",
   "language": "python",
   "name": "cs224w"
  },
  "language_info": {
   "codemirror_mode": {
    "name": "ipython",
    "version": 3
   },
   "file_extension": ".py",
   "mimetype": "text/x-python",
   "name": "python",
   "nbconvert_exporter": "python",
   "pygments_lexer": "ipython3",
   "version": "3.7.11"
  }
 },
 "nbformat": 4,
 "nbformat_minor": 5
}
