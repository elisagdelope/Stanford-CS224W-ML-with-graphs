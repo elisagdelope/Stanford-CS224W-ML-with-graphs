{
 "cells": [
  {
   "cell_type": "markdown",
   "id": "5dfaf1a1-aaac-4329-a7c0-757dccd02aa4",
   "metadata": {},
   "source": [
    "# CS224W: Machine Learning with Graphs - Homework 1\n",
    "Fall 2019"
   ]
  },
  {
   "cell_type": "markdown",
   "id": "f40c1165-bf7e-44cc-871e-22cbd8a99286",
   "metadata": {},
   "source": [
    "## 1 Network Characteristics [25 points]\n",
    "One of the goals of network analysis is to  nd mathematical models that characterize real-world\n",
    "networks and that can then be used to generate new networks with similar properties. In this\n",
    "problem, we will explore two famous models|Erd}os-R enyi and Small World|and compare them\n",
    "to real-world data from an academic collaboration network. Note that in this problem all networks\n",
    "are undirected. You may use the starter code in hw1-q1-starter.py for this problem."
   ]
  },
  {
   "cell_type": "markdown",
   "id": "617d339c-52fb-494b-b7fb-bb2c2a4bc1a2",
   "metadata": {},
   "source": [
    " - Erdös-Rényi Random graph (G(n;m) random network): Generate a random instance of this model by using n = 5242 nodes and picking m = 14484 edges at random. Write code to construct instances of this model, i.e., do not call a SNAP function. \n",
    " - Small-World Random Network: Generate an instance from this model as follows: begin with n = 5242 nodes arranged as a ring, i.e., imagine the nodes form a circle and each node is connected to its two direct neighbors (e.g., node 399 is connected to nodes 398 and 400), giving us 5242 edges. Next, connect each node to the neighbors of its neighbors (e.g., node 399 is also connected to nodes 397 and 401). This gives us another 5242 edges. Finally, randomly select 4000 pairs of nodes not yet connected and add an edge between them. In total, this will make m = 5242   2+4000 = 14484 edges. Write code to construct instances of this model, i.e., do not call a SNAP function.\n",
    " - Real-World Collaboration Network: Download this undirected network from http://snap.stanford.edu/data/ca-GrQc.txt.gz. Nodes in this network represent authors of research papers on the arXiv in the General Relativity and Quantum Cosmology section. There is an edge between two authors if they have co-authored at least one paper together. Note that some edges may appear twice in the data, once for each direction. Ignoring repeats and self-edges, there are 5242 nodes and 14484 edges. (Note: Repeats are automatically ignored when loading an (un)directed graph with SNAP's LoadEdgeList function).\n",
    "\n"
   ]
  },
  {
   "cell_type": "code",
   "execution_count": 1,
   "id": "60dc49e8-9062-49a6-8049-3c64cf40fe49",
   "metadata": {},
   "outputs": [],
   "source": [
    "import snap\n",
    "import numpy as np\n",
    "import matplotlib.pyplot as plt\n",
    "import os"
   ]
  },
  {
   "cell_type": "code",
   "execution_count": 2,
   "id": "83795595-e7df-4ce1-a8e7-b92397c7fc54",
   "metadata": {},
   "outputs": [],
   "source": [
    "# Setup\n",
    "erdosRenyi = None\n",
    "smallWorld = None\n",
    "collabNet = None"
   ]
  },
  {
   "cell_type": "code",
   "execution_count": 3,
   "id": "bde182bf-5177-4d66-8fdc-1cb08c8a8450",
   "metadata": {},
   "outputs": [
    {
     "name": "stdout",
     "output_type": "stream",
     "text": [
      "5242 14475\n",
      "Mean Degree 5.522701259061427 Median Degree 5.0 Max Degree 15 Min Degree 0\n"
     ]
    }
   ],
   "source": [
    "# Erdös-Rényi Random graph (G(n;m) random network)\n",
    "def genErdosRenyi(N=5242, E=14484):\n",
    "    \"\"\"\n",
    "    :param - N: number of nodes\n",
    "    :param - E: number of edges\n",
    "\n",
    "    return type: snap.PUNGraph\n",
    "    return: Erdos-Renyi graph with N nodes and E edges\n",
    "    \"\"\"\n",
    "    Graph = snap.TUNGraph.New(N,E) # Placeholder for the graph\n",
    "    \n",
    "    # Add N nodes\n",
    "    for i in range(0,N):   \n",
    "        Graph.AddNode(i)\n",
    "    \n",
    "    # Generate E random edges connected at random \n",
    "    for i in range(0,E): \n",
    "        v1 = np.random.randint(0,N) \n",
    "        v2 = np.random.randint(0,N)\n",
    "        if (v1 == v2 or Graph.IsEdge(v1,v2)): # check to avoid self-edges and multiple edges between 2 nodes\n",
    "            continue\n",
    "        Graph.AddEdge(v1,v2)\n",
    "\n",
    "    return Graph\n",
    "\n",
    "G = genErdosRenyi()\n",
    "print(G.GetNodes(), G.GetEdges() )    \n",
    "print('Mean Degree', np.mean( [n.GetDeg() for n in G.Nodes()] ),\n",
    "      'Median Degree', np.median( [n.GetDeg() for n in G.Nodes()] ),\n",
    "      'Max Degree', np.max( [n.GetDeg() for n in G.Nodes()] ),\n",
    "      'Min Degree', np.min( [n.GetDeg() for n in G.Nodes()] ) )"
   ]
  },
  {
   "cell_type": "code",
   "execution_count": 4,
   "id": "8dd079f7-1b38-4d43-94af-4916c7d3fed6",
   "metadata": {},
   "outputs": [
    {
     "name": "stdout",
     "output_type": "stream",
     "text": [
      "5242 14479\n",
      "Mean Degree 5.52422739412438 Median Degree 5.0 Max Degree 13 Min Degree 4\n"
     ]
    }
   ],
   "source": [
    "def genCircle(N=5242):\n",
    "    \"\"\"\n",
    "    :param - N: number of nodes\n",
    "\n",
    "    return type: snap.PUNGraph\n",
    "    return: Circle graph with N nodes and N edges. Imagine the nodes form a\n",
    "        circle and each node is connected to its two direct neighbors.\n",
    "    \"\"\"\n",
    "    E = N # N edges\n",
    "    Graph = snap.TUNGraph.New(N,E) # Placeholder for the graph\n",
    "    \n",
    "    # Add N nodes  \n",
    "    for i in range(0,N): \n",
    "        Graph.AddNode(i)\n",
    "    \n",
    "    # Add N edges (i->i+1)\n",
    "    for i in range(0,N-1): \n",
    "        Graph.AddEdge(i,i+1)\n",
    "    \n",
    "    Graph.AddEdge(N-1,0)\n",
    "    \n",
    "    return Graph\n",
    "\n",
    "def connectNbrOfNbr(Graph, N=5242):\n",
    "    \"\"\"\n",
    "    :param - Graph: snap.PUNGraph object representing a circle graph on N nodes\n",
    "    :param - N: number of nodes\n",
    "\n",
    "    return type: snap.PUNGraph\n",
    "    return: Graph object with additional N edges added by connecting each node\n",
    "        to the neighbors of its neighbors\n",
    "    \"\"\"\n",
    "    # Add N edges (i->i+2)\n",
    "    for i in range(0,N-2): \n",
    "        Graph.AddEdge(i,i+2)\n",
    "    \n",
    "    Graph.AddEdge(N-2,0)\n",
    "    Graph.AddEdge(N-1,1)\n",
    "    \n",
    "    return Graph\n",
    "\n",
    "def connectRandomNodes(Graph, M=4000):\n",
    "    \"\"\"\n",
    "    :param - Graph: snap.PUNGraph object representing an undirected graph\n",
    "    :param - M: number of edges to be added\n",
    "\n",
    "    return type: snap.PUNGraph\n",
    "    return: Graph object with additional M edges added by connecting M randomly\n",
    "        selected pairs of nodes not already connected.\n",
    "    \"\"\"\n",
    "    # Generate M random edges connected at random \n",
    "    N = G.GetNodes()\n",
    "    for i in range(0,M): \n",
    "        v1 = np.random.randint(0,N) \n",
    "        v2 = np.random.randint(0,N)\n",
    "        if (v1 == v2 or Graph.IsEdge(v1,v2)): # check to avoid self-edges and multiple edges between 2 nodes\n",
    "            continue\n",
    "        Graph.AddEdge(v1,v2)\n",
    "\n",
    "    return Graph\n",
    "\n",
    "def genSmallWorld(N=5242, E=14484):\n",
    "    \"\"\"\n",
    "    :param - N: number of nodes\n",
    "    :param - E: number of edges\n",
    "\n",
    "    return type: snap.PUNGraph\n",
    "    return: Small-World graph with N nodes and E edges\n",
    "    \"\"\"\n",
    "    Graph = genCircle(N)\n",
    "    Graph = connectNbrOfNbr(Graph, N)\n",
    "    Graph = connectRandomNodes(Graph, 4000)\n",
    "    return Graph\n",
    "\n",
    "G =  genSmallWorld()\n",
    "print(G.GetNodes(), G.GetEdges() ) \n",
    "print('Mean Degree', np.mean( [n.GetDeg() for n in G.Nodes()] ),\n",
    "      'Median Degree', np.median( [n.GetDeg() for n in G.Nodes()] ),\n",
    "      'Max Degree', np.max( [n.GetDeg() for n in G.Nodes()] ),\n",
    "      'Min Degree', np.min( [n.GetDeg() for n in G.Nodes()] ) )\n"
   ]
  },
  {
   "cell_type": "code",
   "execution_count": 5,
   "id": "3d388a6b-6796-4dfd-a770-37ab1001016e",
   "metadata": {},
   "outputs": [
    {
     "name": "stdout",
     "output_type": "stream",
     "text": [
      "File exists:  True\n",
      "5242 14496\n",
      "Mean Degree 5.528424265547501 Median Degree 3.0 Max Degree 81 Min Degree 1\n"
     ]
    }
   ],
   "source": [
    "def loadCollabNet(path):\n",
    "    \"\"\"\n",
    "    :param - path: path to edge list file\n",
    "\n",
    "    return type: snap.PUNGraph\n",
    "    return: Graph loaded from edge list at `path and self edges removed\n",
    "\n",
    "    Do not forget to remove the self edges!\n",
    "    \"\"\"\n",
    "    print('File exists: ',  os.path.isfile(path))\n",
    "    Graph = snap.LoadEdgeList(snap.PUNGraph, path, 0, 1) \n",
    "    snap.DelSelfEdges(G)\n",
    "\n",
    "    return Graph\n",
    "\n",
    "G = loadCollabNet(\"data/ca-GrQc.txt\")\n",
    "print(G.GetNodes(), G.GetEdges() ) \n",
    "print('Mean Degree', np.mean( [n.GetDeg() for n in G.Nodes()] ),\n",
    "      'Median Degree', np.median( [n.GetDeg() for n in G.Nodes()] ),\n",
    "      'Max Degree', np.max( [n.GetDeg() for n in G.Nodes()] ),\n",
    "      'Min Degree', np.min( [n.GetDeg() for n in G.Nodes()] ) )\n"
   ]
  },
  {
   "cell_type": "markdown",
   "id": "d72ced32-812e-4004-925a-2ab2ae117024",
   "metadata": {},
   "source": [
    "### 1.1 Degree Distribution\n",
    "Generate a random graph from both the Erdös-Rényi Random graph (G(n;m) and Small-World models and read in the collaboration network. Delete all of the self-edges in the collaboration network (there should be 14,484 total edges remaining).\n",
    "\n",
    "Plot the degree distribution of all three networks in the same plot on a log-log scale. In other words, generate a plot with the horizontal axis representing node degrees and the vertical axis representing the proportion of nodes with a given degree (by \\log-log scale\" we mean that both the horizontal and vertical axis must be in logarithmic scale). In one to two sentences, describe one key di erence between the degree distribution of the collaboration network and the degree distributions of the random graph models."
   ]
  },
  {
   "cell_type": "code",
   "execution_count": 6,
   "id": "adc498de-a28d-4c00-ae62-4a75b8d9a94f",
   "metadata": {},
   "outputs": [],
   "source": [
    "def getDataPointsToPlot(Graph):\n",
    "    \"\"\"\n",
    "    :param - Graph: snap.PUNGraph object representing an undirected graph\n",
    "\n",
    "    return values:\n",
    "    X: list of degrees\n",
    "    Y: list of frequencies: Y[i] = fraction of nodes with degree X[i]\n",
    "    \"\"\"\n",
    "    DegToCntV = Graph.GetDegCnt() # provides a vector of pairs (degree, number of nodes of such degree)\n",
    "    X = [] # placeholder for degree\n",
    "    Y = [] # placeholder for number of nodes of such degree\n",
    "    for item in DegToCntV:\n",
    "        if item.GetVal1()>0:\n",
    "            X.append(np.log10(item.GetVal1()))\n",
    "            Y.append(np.log10(item.GetVal2()))\n",
    "    return X, Y\n",
    "\n",
    "def Q1_1():\n",
    "    \"\"\"\n",
    "    Code for HW1 Q1.1\n",
    "    \"\"\"\n",
    "    global erdosRenyi, smallWorld, collabNet\n",
    "    erdosRenyi = genErdosRenyi(5242, 14484)\n",
    "    smallWorld = genSmallWorld(5242, 14484)\n",
    "    collabNet = loadCollabNet(\"data/ca-GrQc.txt\")\n",
    "\n",
    "    x_erdosRenyi, y_erdosRenyi = getDataPointsToPlot(erdosRenyi)\n",
    "    plt.loglog(x_erdosRenyi, y_erdosRenyi, color = 'y', label = 'Erdos Renyi Network')\n",
    "\n",
    "    x_smallWorld, y_smallWorld = getDataPointsToPlot(smallWorld)\n",
    "    plt.loglog(x_smallWorld, y_smallWorld, linestyle = 'dashed', color = 'r', label = 'Small World Network')\n",
    "\n",
    "    x_collabNet, y_collabNet = getDataPointsToPlot(collabNet)\n",
    "    plt.loglog(x_collabNet, y_collabNet, linestyle = 'dotted', color = 'b', label = 'Collaboration Network')\n",
    "\n",
    "    plt.xlabel('Node Degree (log)')\n",
    "    plt.ylabel('Proportion of Nodes with a Given Degree (log)')\n",
    "    plt.title('Degree Distribution of Erdos Renyi, Small World, and Collaboration Networks')\n",
    "    plt.legend()\n",
    "    plt.show()\n",
    "\n"
   ]
  },
  {
   "cell_type": "code",
   "execution_count": 7,
   "id": "e452569b-b912-4146-a6f2-cc03d2584f02",
   "metadata": {},
   "outputs": [
    {
     "name": "stdout",
     "output_type": "stream",
     "text": [
      "File exists:  True\n"
     ]
    },
    {
     "data": {
      "image/png": "[encoded data removed]",
      "text/plain": [
       "<Figure size 432x288 with 1 Axes>"
      ]
     },
     "metadata": {
      "needs_background": "light"
     },
     "output_type": "display_data"
    }
   ],
   "source": [
    "# Execute code for Q1.1\n",
    "Q1_1()"
   ]
  },
  {
   "cell_type": "markdown",
   "id": "2940916f-f0ba-481b-b079-08a1d0860be3",
   "metadata": {},
   "source": [
    "The degree distribution represents the probability that a certain node has certain degree. The Small world network has a narrow range of node degrees since it was built by connecting each node to its neighbors and to the neighbors of its neighbors plus some random edges. So, a large proportion of nodes have the same node degree, and some nodes have a higher one. In the Erdos Renyi network all edges were generated randomly with the same likelihood, so the proportion of nodes with a given degree is mostly constant and drops steeply at a certain node degree level. As for the collaboration networks, the proportionof nodes decreases softly as the node degree increases (there are slightly less and less nodes with higher number of connections) and at a certain node degree it starts dropping with higher steep (at certain level, few nodes keep having large connections)."
   ]
  },
  {
   "cell_type": "markdown",
   "id": "f904e9e6-b39e-4554-9556-fd3e688a206d",
   "metadata": {},
   "source": [
    "### 1.2 Clustering Coefficient [13 points]\n",
    "Compute and report the average clustering coefficient of the three networks. For this question, write your own implementation to compute the clustering coefficient, instead of using a built-in SNAP function. Which network has the largest clustering coe cient? In one to two sentences, explain. Think about the underlying process that generated the network."
   ]
  },
  {
   "cell_type": "code",
   "execution_count": 8,
   "id": "97c8cc1f-0777-48f1-beac-1b12b9a78b09",
   "metadata": {},
   "outputs": [],
   "source": [
    "def calcClusteringCoefficientSingleNode(Node, Graph):\n",
    "    \"\"\"\n",
    "    :param - Node: node from snap.PUNGraph object. Graph.Nodes() will give an\n",
    "                   iterable of nodes in a graph\n",
    "    :param - Graph: snap.PUNGraph object representing an undirected graph\n",
    "\n",
    "    return type: float\n",
    "    returns: local clustering coeffient of Node\n",
    "    \"\"\"\n",
    "    C = 0.0\n",
    "    \n",
    "    if Node.GetDeg() < 2: # if we have NodeDegree < 2 return 0\n",
    "        return C\n",
    "    \n",
    "    # iterate over neighboring nodes to look for edges among neighbor nodes\n",
    "    e = 0  # placeholder for number of edges between the neighbors of node\n",
    "    k = Node.GetDeg() # degree of node \n",
    "    for i in range(0, k): \n",
    "        for j in range(i + 1, k):\n",
    "            if Graph.IsEdge(Node.GetNbrNId(i), Node.GetNbrNId(j)): # check if edge exists between the i-th and j-th neighboring node.\n",
    "                e = e + 1\n",
    "    \n",
    "    C = 2 * e / (k * (k - 1)) \n",
    "    return C\n",
    "\n",
    "def calcClusteringCoefficient(Graph):\n",
    "    \"\"\"\n",
    "    :param - Graph: snap.PUNGraph object representing an undirected graph\n",
    "\n",
    "    return type: float\n",
    "    returns: clustering coeffient of Graph\n",
    "    \"\"\"\n",
    "    C = 0.0\n",
    "    for Node in Graph.Nodes():\n",
    "        Ci = calcClusteringCoefficientSingleNode(Node, Graph) \n",
    "        C = C + Ci\n",
    "        \n",
    "    N = Graph.GetNodes()\n",
    "    C = C/N  # Average of all nodes\n",
    "    \n",
    "    return C\n",
    "\n"
   ]
  },
  {
   "cell_type": "code",
   "execution_count": 9,
   "id": "cdeb5e57-48f0-466f-9727-ad026a730f5e",
   "metadata": {},
   "outputs": [],
   "source": [
    "def Q1_2():\n",
    "    \"\"\"\n",
    "    Code for Q1.2\n",
    "    \"\"\"\n",
    "    C_erdosRenyi = calcClusteringCoefficient(erdosRenyi)\n",
    "    C_smallWorld = calcClusteringCoefficient(smallWorld)\n",
    "    C_collabNet = calcClusteringCoefficient(collabNet)\n",
    "\n",
    "    print('Clustering Coefficient for Erdos Renyi Network: %f' % C_erdosRenyi)\n",
    "    print('Clustering Coefficient for Small World Network: %f' % C_smallWorld)\n",
    "    print('Clustering Coefficient for Collaboration Network: %f' % C_collabNet)\n",
    "\n"
   ]
  },
  {
   "cell_type": "code",
   "execution_count": 10,
   "id": "8749b06d-bec1-44e2-8391-5b57cf67cd53",
   "metadata": {},
   "outputs": [
    {
     "name": "stdout",
     "output_type": "stream",
     "text": [
      "Clustering Coefficient for Erdos Renyi Network: 0.001223\n",
      "Clustering Coefficient for Small World Network: 0.284194\n",
      "Clustering Coefficient for Collaboration Network: 0.530185\n"
     ]
    }
   ],
   "source": [
    "# Execute code for Q1.2\n",
    "Q1_2()"
   ]
  },
  {
   "cell_type": "markdown",
   "id": "c618712e-38f3-4c5d-b986-664fa48d21bf",
   "metadata": {},
   "source": [
    "Clustering coefficient is a concept defined for undirected graphs. It represents how connected are the neighbors of a node to each other. The Small World Network has the highest clustering coefficient because we didn't build the edges entirely randomly as we did in the Erdos Reny Network, but we linked each node's neighbor to each other by connecting each node to the neighbors of its neighbors. We additionally introduced some random edges though. The collaboration network has an even higher clustering coefficient. My interpretation is that since this network represent authors of research papers who coauthored a paper together in the field of General Relativity and Quantum Cosmology section, which I imagine to be a pretty narrow field of research, many of the other coauthors are also coauthors with each other as they are all working in a very specific field.  "
   ]
  },
  {
   "cell_type": "markdown",
   "id": "c06fd42f-e013-4707-8d70-dc2cb793ce8e",
   "metadata": {},
   "source": [
    "## 1 Network Characteristics [25 points]\n",
    "In this problem, we will explore the structural role extraction algorithm Rolx and its recursive feature extraction method ReFex. As part of this exploration, we will work with a dataset representing a scientist co-authorship network, which can be dowloaded at http://www-personal.umich.edu/~mejn/netdata/netscience.zip. 1 Although the graph is weighted, for simplicity we treat it as undirected and unweighted in this problem. Feature extraction consists of two steps; we  first extract basic local features from every node, and we subsequently aggregate them along graph edges so that global features are also obtained. Collectively, feature extraction constructs a matrix V 2 Rn f where for each of the n nodes we have f features to cover local and global information. Rolx extracts node roles from that matrix."
   ]
  },
  {
   "cell_type": "markdown",
   "id": "948761d4-e8e3-47ab-b22e-06fd50435336",
   "metadata": {},
   "source": [
    "### 2.1 Basic Features [5 points]\n",
    "We begin by loading the graph G provided in the bundle and computing three basic features for\n",
    "the nodes. For each node v, we choose 3 basic local features (in this order):\n",
    "1. the degree of v, i.e., deg(v);\n",
    "2. the number of edges in the egonet of v, where egonet of v is de ned as the subgraph of G\n",
    "induced by v and its neighborhood;\n",
    "3. the number of edges that connect the egonet of v and the rest of the graph, i.e., the number\n",
    "of edges that enter or leave the egonet of v."
   ]
  },
  {
   "cell_type": "markdown",
   "id": "322da02c-ae08-4843-83ee-f77ea6e0769b",
   "metadata": {},
   "source": [
    "Compute the basic feature vector for the node with ID 9, and report the top 5 nodes that are most similar to node 9 (excluding node 9). As a sanity check, no element in ~ V9 is larger than 10."
   ]
  },
  {
   "cell_type": "code",
   "execution_count": 11,
   "id": "04e370c4-e656-4257-8e95-46e76d636b7e",
   "metadata": {},
   "outputs": [],
   "source": [
    "def load_graph_weights(path):\n",
    "    print('File exists: ',  os.path.isfile(path))\n",
    "    Graph = snap.TUNGraph.Load(snap.TFIn(path))\n",
    "    return Graph\n"
   ]
  },
  {
   "cell_type": "code",
   "execution_count": 12,
   "id": "ddbd90f6-a5fa-4201-8f85-56eccf311cd4",
   "metadata": {},
   "outputs": [],
   "source": [
    "def extract_basic_feature(node, graph):\n",
    "    \"\"\"\n",
    "    Calculate three basic features for input node v\n",
    "    1. degree of v\n",
    "    2. number of edges in the egonet of node v\n",
    "    3. number of edges that connect the egonet of v and the rest of the graph \n",
    "    \"\"\"\n",
    "    \n",
    "    n_deg = node.GetDeg() # get degree of node \n",
    "    \n",
    "    n_id = node.GetId() # get id of node \n",
    "    neighborhood_list = list(node.GetOutEdges())     # Get IDs of neighbors\n",
    "    neighborhood_list.insert(0, n_id) \n",
    "    egonet = snap.GetSubGraph(graph, neighborhood_list) # returns an induced subgraph on the nodes of the neighborhood\n",
    "    ego_edges = snap.CntUniqUndirEdges(egonet) # returns the number of unique undirected edges\n",
    "    \n",
    "    cross_edges = 0\n",
    "    for edge in Graph.Edges():\n",
    "        # subgraph non-subgraph로 나가는 outgoing edge\n",
    "        if edge.GetSrcNId() in neighborhood_list and edge.GetDstNId() not in neighborhood_list:\n",
    "            cross_edges = cross_edges + 1\n",
    "        elif edge.GetSrcNId() not in neighborhood_list and edge.GetDstNId() in neighborhood_list:\n",
    "            cross_edges = cross_edges + 1\n",
    "        else: \n",
    "            pass   \n",
    "    \n",
    "    v = [n_deg, ego_edges, cross_edges]\n",
    "    return v\n"
   ]
  },
  {
   "cell_type": "code",
   "execution_count": 13,
   "id": "9012ae0e-7c2e-4f06-8c59-0dc6d758ea6d",
   "metadata": {},
   "outputs": [],
   "source": [
    "def calc_cosine_similarity(u,v):\n",
    "    if np.linalg.norm(u) == 0 or np.linalg.norm(v) == 0:\n",
    "        cos_sim = 0\n",
    "    else:\n",
    "        cos_sim = np.dot(u, v)/(np.linalg.norm(u)*np.linalg.norm(v))\n",
    "    return cos_sim"
   ]
  },
  {
   "cell_type": "code",
   "execution_count": 14,
   "id": "c114b39f-bade-4135-8893-cd11d5338584",
   "metadata": {},
   "outputs": [
    {
     "name": "stdout",
     "output_type": "stream",
     "text": [
      "File exists:  True\n",
      "[6, 10, 1]\n"
     ]
    }
   ],
   "source": [
    "# basic feature vector for the node with ID 9\n",
    "path = \"data/hw1-q2.graph\"\n",
    "Graph = load_graph_weights(path)\n",
    "ft_id9 = extract_basic_feature(Graph.GetNI(9), Graph)\n",
    "print(ft_id9)"
   ]
  },
  {
   "cell_type": "code",
   "execution_count": 15,
   "id": "e37536f4-4551-43be-bfd7-0dd4133f358f",
   "metadata": {},
   "outputs": [],
   "source": [
    "def topk_cos_sim(target_node_id, k, Graph):\n",
    "\n",
    "    target_node = Graph.GetNI(target_node_id)\n",
    "    target_ft = extract_basic_feature(target_node, Graph)\n",
    "   \n",
    "    dict_sim = {} # placeholder for dictionary of basic features' similarities\n",
    "    for node in Graph.Nodes():\n",
    "        n_id = node.GetId() \n",
    "        n_ft = extract_basic_feature(node, Graph)\n",
    "        sim_target = calc_cosine_similarity(n_ft, target_ft)\n",
    "        dict_sim[n_id] = sim_target\n",
    "\n",
    "    top5_sim = sorted(dict_sim.items(), key=lambda x: x[1], reverse=True)[1:k+1] # exclude index 0 as it corresponds to target node (perfect similarity with itself)\n",
    "    return top5_sim\n",
    "\n",
    "\n"
   ]
  },
  {
   "cell_type": "code",
   "execution_count": 16,
   "id": "f1a7258d-8a2c-400d-bf82-636593bd9626",
   "metadata": {},
   "outputs": [
    {
     "name": "stdout",
     "output_type": "stream",
     "text": [
      "[415, 286, 288, 1054, 1336]\n"
     ]
    }
   ],
   "source": [
    "# report the top 5 nodes that are most similar to node 9 (excluding node 9)\n",
    "top5_sim9 = topk_cos_sim(target_node_id=9, k=5, Graph=Graph)\n",
    "top5_sim9 = [element[0] for element in top5_sim9] # retrieve the keys (nodes ids) of dict\n",
    "print(top5_sim9)\n"
   ]
  },
  {
   "cell_type": "markdown",
   "id": "edff1c05-169f-43df-9fde-bd0df1f9ac84",
   "metadata": {},
   "source": [
    "### 2.2 Recursive Features [8 points]\n",
    "In this next step, we recursively generate some more features. We use mean and sum as aggregation functions. Initially, we have a feature vector ~Vu E R^3 for every node u. In the first iteration, we concatenate the mean of all u's neighbors' feature vectors to ~ Vu, and do the same for sum. N(u) is the set of u's neighbors in the graph. If N(u) = 0, set the mean and sum to 0.\n",
    "After K iterations, we obtain the overall feature matrix V = ~ V (K) E R^3K+1."
   ]
  },
  {
   "cell_type": "code",
   "execution_count": 17,
   "id": "14447243-443f-42a5-b3a0-4811214aed45",
   "metadata": {},
   "outputs": [],
   "source": [
    "def generate_agg_features(dict_ft, Graph):\n",
    "    dict_new_ft = {}\n",
    "    for node in Graph.Nodes():\n",
    "        node_id = node.GetId()\n",
    "        node_ft = dict_ft[node_id]\n",
    "        neighbors_list = list(node.GetOutEdges())  # get ids of neighbors\n",
    "        if len(neighbors_list) == 0:\n",
    "            aggregated_ft = node_ft + [0]*len(node_ft)*2\n",
    "        else:\n",
    "            neighbors_ft = [dict_ft[n_id] for n_id in neighbors_list]\n",
    "            mean_neighbors = np.mean(neighbors_ft, axis = 0)\n",
    "            sum_neighbors = np.sum(neighbors_ft, axis = 0)\n",
    "            aggregated_ft = list(np.concatenate([node_ft, mean_neighbors, sum_neighbors])) # for each node, aggregate the neighbors'feature vectors into the mean and sum\n",
    "        dict_new_ft[node_id] = aggregated_ft\n",
    "    return dict_new_ft\n",
    "\n",
    "def recursive_features(Graph, k=2):\n",
    "    dict_node_ft = {node.GetId(): extract_basic_feature(node, Graph) for node in Graph.Nodes()} \n",
    "    for k in range(0, k):\n",
    "        dict_node_ft = generate_agg_features(dict_node_ft, Graph)\n",
    "    return dict_node_ft\n"
   ]
  },
  {
   "cell_type": "markdown",
   "id": "4d728fad-0a2b-4693-944f-85e75d434b38",
   "metadata": {},
   "source": [
    "For this exercise, run K = 2 iterations, and report the top 5 nodes that are most similar to node 9\n",
    "(excluding node 9)."
   ]
  },
  {
   "cell_type": "code",
   "execution_count": 18,
   "id": "5b22c257-d679-4f59-a9a2-ec114f0a0764",
   "metadata": {},
   "outputs": [
    {
     "name": "stdout",
     "output_type": "stream",
     "text": [
      "File exists:  True\n",
      "[973, 537, 415, 496, 24]\n"
     ]
    }
   ],
   "source": [
    "# report the top 5 nodes that are most similar to node 9 (excluding node 9)\n",
    "\n",
    "path = \"data/hw1-q2.graph\"\n",
    "Graph = load_graph_weights(path)\n",
    "\n",
    "# generate recursive features\n",
    "dict_ft = recursive_features(Graph, 2) \n",
    "\n",
    "# generate cosine similarity \n",
    "ft_id9 = dict_ft[9]\n",
    "dict_sim = {} # placeholder for dictionary of basic features' similarities\n",
    "for node in Graph.Nodes():\n",
    "    n_id = node.GetId() \n",
    "    n_ft = dict_ft[n_id]\n",
    "    sim_target = calc_cosine_similarity(n_ft, ft_id9)\n",
    "    dict_sim[n_id] = sim_target\n",
    "\n",
    "top5_rec_sim9 = sorted(dict_sim.items(), key=lambda x: x[1], reverse=True)[1:6] \n",
    "top5_rec_sim9 = [element[0] for element in top5_rec_sim9] # retrieve the keys (nodes ids) of dict\n",
    "print(top5_rec_sim9)"
   ]
  },
  {
   "cell_type": "markdown",
   "id": "79a09df6-e6c9-4778-a74c-378283086af6",
   "metadata": {},
   "source": [
    "Comparing with the previous results using only the basic features, only one of the nodes is in common (node id 415). We are now looking at bigger areas of neighborhoods (i.e., neighbors of neighbors), so the topology of neighbors located further away has weight in the similarity. "
   ]
  },
  {
   "cell_type": "markdown",
   "id": "8a58e9bf-712d-4b0e-af10-4baee0dc6788",
   "metadata": {},
   "source": [
    "### 2.3 Role Discovery [12 points]\n",
    "In this part, we explore more about the graph according to the recursive feature vectors of nodes and node similarity. \n",
    "- Produce a 20-bin histogram to show the distribution of cosine similarity between node 9 and any other node in the graph (according to their recursive feature vectors). Note here that the x-axis is cosine similarity with node 9, and the y-axis is the number of nodes. \n",
    "- For these groups / roles in the cosine similarity histogram, take one node u from each group to examine the feature vector, and draw the subgraph of the node based on its feature vector. You can draw the subgraph by hand, or you can use libraries such as networkx or graphviz."
   ]
  },
  {
   "cell_type": "code",
   "execution_count": 19,
   "id": "0f61a7a8-7af5-4f61-acf7-1806011402e5",
   "metadata": {},
   "outputs": [
    {
     "data": {
      "image/png": "[encoded data removed]",
      "text/plain": [
       "<Figure size 432x288 with 1 Axes>"
      ]
     },
     "metadata": {
      "needs_background": "light"
     },
     "output_type": "display_data"
    }
   ],
   "source": [
    "# 20-bin histogram showing the distribution of cosine similarity between node 9 and any other node in the graph (according to their recursive feature vectors).\n",
    "sim9 = [v for k,v in dict_sim.items() if k != 9]\n",
    "\n",
    "plt.hist(sim9, bins=20)\n",
    "plt.xlabel('Cosine similarity with node 9')\n",
    "plt.ylabel('Number of nodes')\n",
    "plt.title('Distribution of cosine similarity between node 9 and any other node in the graph')\n",
    "plt.show()"
   ]
  },
  {
   "cell_type": "markdown",
   "id": "96036d9b-b31a-4168-92aa-40304fcaa5df",
   "metadata": {},
   "source": [
    "From this histogram, some groups can be spotted based on the similarity with node 9. There are at least 3 clear groups: one with no similarity at all, one with some similarity, and another one with very high similarity."
   ]
  },
  {
   "cell_type": "markdown",
   "id": "f23e5272-ece7-4a6e-9de3-4b519e583b95",
   "metadata": {},
   "source": [
    "For these groups / roles in the cosine similarity histogram, take one node u from each group to examine the feature vector, and draw the subgraph of the node based on its feature vector. You can draw the subgraph by hand, or you can use libraries such as networkx or graphviz."
   ]
  },
  {
   "cell_type": "code",
   "execution_count": 20,
   "id": "6ce5c733-b54f-4c71-9b1d-8003d164178a",
   "metadata": {},
   "outputs": [],
   "source": [
    "def pick_rnd_node_group(lower_bond, upper_bond, dict_similarities):\n",
    "    nodes_group = [k for k,v in dict_similarities.items() if v >= lower_bond and v < upper_bond]\n",
    "    pick = np.random.choice(nodes_group)\n",
    "    return pick"
   ]
  },
  {
   "cell_type": "code",
   "execution_count": 21,
   "id": "5b4ac203-f7d5-401a-b3fe-a05e385604c8",
   "metadata": {},
   "outputs": [],
   "source": [
    "def gen_subgraph(node_id, Graph, hop=3):\n",
    "    \n",
    "    node = Graph.GetNI(node_id) # get object \n",
    "    \n",
    "    neighborhood_list = set()     # placeholder for all neighbors\n",
    "    neighborhood_list.add(node_id)\n",
    "    for i in range(1, hop+1):  \n",
    "        NodeNum, NodeVec = Graph.GetNodesAtHop(node_id, i, False)\n",
    "        for item in NodeVec:\n",
    "            neighborhood_list.add(item)\n",
    "    \n",
    "    \n",
    "    subGraph = snap.GetSubGraph(Graph, list(neighborhood_list))\n",
    "    return subGraph\n"
   ]
  },
  {
   "cell_type": "code",
   "execution_count": 23,
   "id": "a34da102-01f7-4888-96d2-1275e57526a8",
   "metadata": {},
   "outputs": [
    {
     "name": "stdout",
     "output_type": "stream",
     "text": [
      "858 0\n",
      "760 0.6311989825158971\n",
      "659 0.9118905251129772\n"
     ]
    }
   ],
   "source": [
    "\n",
    "group_ranges = [(0, 0.05), (0.6, 0.65), (0.85, 0.95)]\n",
    "for group in group_ranges:\n",
    "    node_id = int(pick_rnd_node_group(group[0], group[1], dict_sim))\n",
    "    print(node_id, dict_sim[node_id])\n",
    "    subgraph = gen_subgraph(node_id, Graph, hop=1)\n",
    "    \n",
    "    labels = {}\n",
    "    for node in subgraph.Nodes():\n",
    "        labels[node.GetId()] = str(node.GetId())\n",
    "    \n",
    "    plotname = \"subgraph\" + str(node_id) + \".png\"\n",
    "    #snap.DrawGViz(subgraph, snap.gvlNeato, plotname, labels) - commented since it provokes kernel death\n",
    "        \n",
    "        \n",
    "node_group0 = 9\n",
    "subgraph = gen_subgraph(node_id, Graph, hop=1)\n",
    "labels = {}\n",
    "for node in subgraph.Nodes():\n",
    "    labels[node.GetId()] = str(node.GetId())\n",
    "\n",
    "plotname = \"subgraph\" + str(node_group0) + \".png\"\n",
    "#snap.DrawGViz(subgraph, snap.gvlNeato, potname, labels) - commented since it provokes kernel death"
   ]
  },
  {
   "cell_type": "markdown",
   "id": "891e9063-3f20-4db0-8d8a-5df48b9e665a",
   "metadata": {},
   "source": [
    "## 3 Community detection suing the Louvain algorithm [25 points]\n",
    "Through this problem, we will explore some properties of the Louvain algorithm for community detection. The modularity of a weighted graph is a measure that compares the density of edges within a community to the density of edges between communities. The modularity of a graph lies in the range [ -1, 1]. Maximizing the modularity of a given graph is a computationally hard problem, so we try di erent heuristics for this purporse. One such heuristic is the Louvain algorithm. This algorithm outperforms many similar algorithms in terms of both speed as well as maximum modularity obtained. \n",
    "Each pass of the algorithm has two phases: Phase 1 (Modularity Optimization) and Phase 2 (Community Aggregation)."
   ]
  },
  {
   "cell_type": "markdown",
   "id": "81ad70cc-56d0-41e0-87b0-86ff7549c334",
   "metadata": {},
   "source": [
    "### 3.1 Modularity gain when an isolated node moves into a community [4 points]"
   ]
  },
  {
   "cell_type": "markdown",
   "id": "8edd46e8-3a7f-407d-9616-c5b8f81e67c5",
   "metadata": {},
   "source": [
    "Prove that the modularity gain seen when i merges with C (i.e., the change in modularity after they merge into one community) is given by:\n",
    "$\\Delta Q = [(\\sum in + k_{i,in})/2m - ((\\sum tot + k_{i})/2m)^{2}] - [\\sum in/2m - (\\sum tot/2m)^{2} - (k_{i}/2m)^{2}]$"
   ]
  },
  {
   "cell_type": "markdown",
   "id": "e4648838-84fd-45bc-a897-b2d5487e56cc",
   "metadata": {},
   "source": [
    "by definition:\n",
    "\n",
    "$Q_{before} = Q_{C} + Q_{i}$\n",
    "\n",
    "$Q_{before} = (\\sum in/2m - (\\sum tot/2m)^{2}) + (0 - (k_{i}/2m)^{2}) = \\sum in/2m - (\\sum tot/2m)^{2} - (k_{i}/2m)^{2} $\n",
    "\n",
    "$Q_{after} = (\\sum in + k_{i,in})/2m - ((\\sum tot + k_{i})/2m)^{2}$\n",
    "\n",
    "Therefore:\n",
    "\n",
    "$\\Delta Q = Q_{after} - Q_{before}$\n",
    "\n",
    "$\\Delta Q = [(\\sum in + k_{i,in})/2m - ((\\sum tot + k_{i})/2m)^{2}] - [\\sum in/2m - (\\sum tot/2m)^{2} - (k_{i}/2m)^{2}]$\n"
   ]
  },
  {
   "cell_type": "markdown",
   "id": "6506db7a-4d34-44a5-9a24-e9dbbb110060",
   "metadata": {},
   "source": [
    "### 3.2 Louvain algorithm on a 16 node network [10 points]"
   ]
  },
  {
   "cell_type": "markdown",
   "id": "92f98091-7f41-43cc-97cc-34dd3a3a49e5",
   "metadata": {},
   "source": [
    "Consider the graph G (Figure 3), with 4 cliques of 4 nodes each arranged in a ring. Assume all the edges have same weight value 1. There exists exactly one edge between any two adjacent cliques. We will manually inspect the results of the Louvain algorithm on this network. The first phase of modularity optimization detects each clique as a single community (giving 4 communities in all). After the community aggregation phase, the new network H will have 4 nodes.\n",
    "\n"
   ]
  },
  {
   "cell_type": "markdown",
   "id": "e40f58e2-302e-4f06-937b-8fc96bf878bd",
   "metadata": {},
   "source": [
    "What is the weight of any edge between two distinct nodes in H? [1 point] There is one edge between each clique, so one node between each 'supernode'. The answer is 1 (all edges have weight value of 1)."
   ]
  },
  {
   "cell_type": "markdown",
   "id": "53c23c8b-788c-4501-959c-9856dcf19246",
   "metadata": {},
   "source": [
    "What is the weight of any self-edge in H? [2 point] $4*3 = 12$ (There are 4 nodes per clique and each node has 3 edges of value 1 each) "
   ]
  },
  {
   "cell_type": "markdown",
   "id": "97d6c92b-d149-4a8e-b519-991b32130b0a",
   "metadata": {},
   "source": [
    "What is the modularity of H (with each node in its own community)? [2 points] $2m = 4*12 + 4*2 = 56$; $Q_{H} = 1/56 * (12 - 14^2/56) * 4 = 0.6071$"
   ]
  },
  {
   "cell_type": "markdown",
   "id": "88e529da-5492-470b-b7cb-c7dc6250b6c0",
   "metadata": {},
   "source": [
    "What is the weight of any edge between two distinct nodes in J? [1point] There woud be 2 edges connecting the supernodes weighting 1 each => weight would be 2 "
   ]
  },
  {
   "cell_type": "markdown",
   "id": "778f1c11-0e7e-41ab-9a9e-8e3a042d9071",
   "metadata": {},
   "source": [
    "What is the weight of any self-edge in J? [2 point] 26 "
   ]
  },
  {
   "cell_type": "markdown",
   "id": "b55840b4-c92a-4803-b012-65d32eeffbb9",
   "metadata": {},
   "source": [
    "What is the modularity of J (with each node in its own community)? [2 points] $2m = 2*26 + 2*2 = 56$; $Q_{H} = 1/56 * (26 - 28^2/56) * 2 = 0.4285$"
   ]
  },
  {
   "cell_type": "markdown",
   "id": "6c101113-2819-4753-aabc-5e7d07f5f716",
   "metadata": {},
   "source": [
    "### 3.3. Louvain algorithm on a 128 node network [10 points]"
   ]
  },
  {
   "cell_type": "markdown",
   "id": "60114a6f-2f36-4eba-b883-d671c7540767",
   "metadata": {},
   "source": [
    "Now consider a larger version of the same network, with 32 cliques of 4 nodes each (arranged in a ring as earlier); call this network Gbig. Again, assume all the edges have same weight value 1, and there exists exactly one edge between any two adjacent cliques. The first phase of modularity optimization, as expected, detects each clique as a single community. After aggregation, this forms a new network Hbig with 32 nodes."
   ]
  },
  {
   "cell_type": "markdown",
   "id": "9a16684f-1807-41d2-a121-e03684800a98",
   "metadata": {
    "tags": []
   },
   "source": [
    "What is the weight of any edge between two distinct nodes in Hbig? [1 point] There is one edge between any two adjacent cliques, so 1"
   ]
  },
  {
   "cell_type": "markdown",
   "id": "b9899b6a-4173-4b30-b994-1180827356f8",
   "metadata": {
    "tags": []
   },
   "source": [
    "What is the weight of any self-edge in Hbig? [2 point] $4*3 = 12$ (There are 4 nodes per clique and each node has 3 edges of value 1 each)"
   ]
  },
  {
   "cell_type": "markdown",
   "id": "d5763c9c-29a5-441e-b9af-af7fa957ded1",
   "metadata": {},
   "source": [
    "What is the modularity of Hbig (with each node in its own community)? [2 points] $2m = 32 * 12 + 32 * 2 = 448$; $Q_{H} = 1/448 * (12 - 14^2/448) * 32 = 0.8259$"
   ]
  },
  {
   "cell_type": "markdown",
   "id": "ad500941-b47d-4796-80d8-fba168cca8f0",
   "metadata": {},
   "source": [
    "After what we saw in the earlier example, we would expect the algorithm to terminate here. However (spoiler alert again), that doesn't happen and the algorithm proceeds. The next phase of modularity optimization groups Hbig into 16 communities with two adjacent nodes from Hbig in each community. Call the resultant graph (after community aggregation) Jbig."
   ]
  },
  {
   "cell_type": "markdown",
   "id": "fe7316b3-d62f-4fb1-b344-8a8b7bd5340d",
   "metadata": {},
   "source": [
    "What is the weight of any edge between two distinct nodes in Jbig? [1 point] There would be one edge between any two adjacent super nodes, so 1"
   ]
  },
  {
   "cell_type": "markdown",
   "id": "65847b5d-74fd-4305-be7a-45e10f4d4159",
   "metadata": {},
   "source": [
    "What is the weight of any self-edge in Jbig? [2 point] 26"
   ]
  },
  {
   "cell_type": "markdown",
   "id": "2dbe0512-d787-4167-97ba-b6e747c30cc9",
   "metadata": {},
   "source": [
    "What is the modularity of Jbig (with each node in its own community)? [2 points] $2m = 16 * 26 + 16 * 2 = 448$; $Q_{H} = 1/448 * (26 - 28^2/448) * 16 = 0.8661$"
   ]
  },
  {
   "cell_type": "markdown",
   "id": "e1fa55dc-b676-42f7-b25f-a3c9411cca9c",
   "metadata": {},
   "source": [
    "### 3.4 What just happened? [1 point]"
   ]
  },
  {
   "cell_type": "markdown",
   "id": "fa686f14-0065-425d-8fda-b860c0c26684",
   "metadata": {},
   "source": [
    "Explain (in a few lines) why you think the algorithm behaved the way it did for the larger network. In other words, what might have caused modularity to be maximized with an \"unintuitive\" community grouping for the larger network? Modularity optimization may fail (leading to suboptimal community identification) because it is a trade off between the number of communities and the modularity value of each community.   An increase of the number of modules does not necessarily correspond to an increase in modularity because the modules would be smaller and so could be their modularity. This intuition has been further developed in Fortunato and Barthelemy's work [Resolution limit in community detection]."
   ]
  },
  {
   "cell_type": "markdown",
   "id": "311196a4-c47c-4633-b202-ab647c0252d9",
   "metadata": {},
   "source": [
    "## 4 Spectral clustering [25 points]"
   ]
  },
  {
   "cell_type": "markdown",
   "id": "0f593bf9-f9fe-4cda-87bb-9d4173cdbde9",
   "metadata": {},
   "source": [
    "This question derives a spectral clustering algorithm that we then use to analyze a real-world dataset. These algorithms use eigenvectors of matrices associated with the graph. You may  nd this handout https://bit.ly/2l0dXCL on graph clustering to be useful for additional background information."
   ]
  },
  {
   "cell_type": "markdown",
   "id": "dc4b2984-7c63-4210-a9bf-62b74f025ded",
   "metadata": {},
   "source": [
    "- Let G = (V;E) be a simple (that is, no self- or multi- edges) undirected, connected graph with n = |V| and m = |E|.   \n",
    "- A is the adjacency matrix of the graph G, i.e., Aij is equal to 1 if (i; j) 2 E and equal to 0 otherwise.   \n",
    "- D is the diagonal matrix of degrees: Dii = SUMj Aij = the degree of node i.   \n",
    "- We de ne the graph Laplacian of G by L = D - A."
   ]
  },
  {
   "cell_type": "markdown",
   "id": "3c42aa5a-05ca-46aa-b353-5f76231d99ed",
   "metadata": {},
   "source": [
    "### 4.1 A Spectral Algorithm for Normalized Cut Minimization: Foundations [10 points]"
   ]
  },
  {
   "cell_type": "markdown",
   "id": "8971c807-067f-4561-b66c-a46f35a0d812",
   "metadata": {},
   "source": [
    "i) Note that each edge (i,j) will contribute with a 1 to Lii and Ljj, and with -1 to Lij and Lji, and that's how the Laplacian Matrix is computed (L = D - A).\n"
   ]
  },
  {
   "cell_type": "markdown",
   "id": "8d53e896-69df-4ec1-924e-013b13763bcf",
   "metadata": {},
   "source": [
    "ii) $x^T *L*x = x^T * [\\sum (e_{i} - e_{j})* (e_{i} - e_{j})^T] * x $; </p>\n",
    "and $x^T * (e_{i} - e_{j}) = (e_{i} - e_{j})^T * x = (x_{i} - x_{j})$; </p>\n",
    "therefore  $x^T *L*x = \\sum(x_{i} - x_{j})^2$"
   ]
  },
  {
   "cell_type": "markdown",
   "id": "46c185f7-8fb2-4102-adf0-f2710ce09d56",
   "metadata": {},
   "source": [
    "iii) If xi, xj in the same S, then xi-xj = 0. Else:  </p>\n",
    "    $(\\sqrt(vol(S)/\\sqrt(vol(S') + \\sqrt(vol(S')/\\sqrt(vol(S))^2$;  </p>\n",
    "    $((vol(S') + vol(S'))^2/((vol(S') * vol(S))$; </p>\n",
    "    $((vol(S') + vol(S')) * ((vol(S') + vol(S'))/((vol(S') * vol(S))$; </p>\n",
    "    $2m * ((vol(S') + vol(S'))/((vol(S') * vol(S))$; </p>\n",
    "    $2m/c * NCUTs$\n",
    "    "
   ]
  },
  {
   "cell_type": "markdown",
   "id": "051aa115-9be6-4687-82ed-ef230e5ad31c",
   "metadata": {},
   "source": [
    "iv) Given that D*e = d (degree vector)\n",
    "$x^T*D*e = x^T * d = \\sum_{c \\epsilon S} di (\\sqrt(vol(S)/\\sqrt(vol(S')) + \\sum_{c \\not{\\epsilon} S} di (\\sqrt(vol(S')/\\sqrt(vol(S))$\n"
   ]
  },
  {
   "cell_type": "markdown",
   "id": "d7120be4-3e0a-40d8-9988-c2ae6543cce7",
   "metadata": {},
   "source": [
    "v) $x^T*D*x = vol(S) + vol(S') = 2m$"
   ]
  }
 ],
 "metadata": {
  "kernelspec": {
   "display_name": "cs224w",
   "language": "python",
   "name": "cs224w"
  },
  "language_info": {
   "codemirror_mode": {
    "name": "ipython",
    "version": 3
   },
   "file_extension": ".py",
   "mimetype": "text/x-python",
   "name": "python",
   "nbconvert_exporter": "python",
   "pygments_lexer": "ipython3",
   "version": "3.7.11"
  }
 },
 "nbformat": 4,
 "nbformat_minor": 5
}
